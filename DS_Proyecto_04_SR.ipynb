{
 "cells": [
  {
   "cell_type": "markdown",
   "id": "aware-customer",
   "metadata": {},
   "source": [
    "#### Enlace Repositorio GitHub:"
   ]
  },
  {
   "cell_type": "markdown",
   "id": "provincial-assist",
   "metadata": {},
   "source": [
    "https://github.com/juan5733/DS_Proyecto_04_SR.git"
   ]
  },
  {
   "cell_type": "markdown",
   "id": "japanese-calendar",
   "metadata": {},
   "source": [
    "## Background"
   ]
  },
  {
   "cell_type": "markdown",
   "id": "nearby-delta",
   "metadata": {},
   "source": [
    "A lo largo del proyecto número 3 he implementado un filtro colaborativo para determinar que juegos recomendar a un usuario en particular, en base a los juegos jugados por otros usuarios. Para el caso de este proyecto, buscaré desarrollar un filtro basado en contenido para recomendar juegos a un usuario en particular, pero en base a la similitud entre juegos y no entre usuarios."
   ]
  },
  {
   "cell_type": "code",
   "execution_count": 289,
   "id": "extensive-lawsuit",
   "metadata": {},
   "outputs": [],
   "source": [
    "import numpy as np\n",
    "import pandas as pd\n",
    "import matplotlib.pyplot as plt\n",
    "import seaborn as sns"
   ]
  },
  {
   "cell_type": "markdown",
   "id": "returning-demonstration",
   "metadata": {},
   "source": [
    "A continuación utilizaré el archivo preprocesado de la entrega anterior para comenzar con la implementación del filtro colaborativo"
   ]
  },
  {
   "cell_type": "code",
   "execution_count": 290,
   "id": "judicial-veteran",
   "metadata": {},
   "outputs": [],
   "source": [
    "#carga del dataset pre-armado que fui generando durante EDA del proyecto 03\n",
    "games = pd.read_csv('games.csv')"
   ]
  },
  {
   "cell_type": "code",
   "execution_count": 292,
   "id": "general-homework",
   "metadata": {
    "scrolled": false
   },
   "outputs": [
    {
     "data": {
      "text/html": [
       "<div>\n",
       "<style scoped>\n",
       "    .dataframe tbody tr th:only-of-type {\n",
       "        vertical-align: middle;\n",
       "    }\n",
       "\n",
       "    .dataframe tbody tr th {\n",
       "        vertical-align: top;\n",
       "    }\n",
       "\n",
       "    .dataframe thead th {\n",
       "        text-align: right;\n",
       "    }\n",
       "</style>\n",
       "<table border=\"1\" class=\"dataframe\">\n",
       "  <thead>\n",
       "    <tr style=\"text-align: right;\">\n",
       "      <th></th>\n",
       "      <th>publisher</th>\n",
       "      <th>genres</th>\n",
       "      <th>app_name</th>\n",
       "      <th>title</th>\n",
       "      <th>release_date</th>\n",
       "      <th>tags</th>\n",
       "      <th>specs</th>\n",
       "      <th>price</th>\n",
       "      <th>early_access</th>\n",
       "      <th>id</th>\n",
       "      <th>developer</th>\n",
       "      <th>sentiment</th>\n",
       "    </tr>\n",
       "  </thead>\n",
       "  <tbody>\n",
       "    <tr>\n",
       "      <th>0</th>\n",
       "      <td>Kotoshiro</td>\n",
       "      <td>['Action', 'Casual', 'Indie', 'Simulation', 'S...</td>\n",
       "      <td>Lost Summoner Kitty</td>\n",
       "      <td>Lost Summoner Kitty</td>\n",
       "      <td>2018-01-04</td>\n",
       "      <td>['Strategy', 'Action', 'Indie', 'Casual', 'Sim...</td>\n",
       "      <td>['Single-player']</td>\n",
       "      <td>4.99</td>\n",
       "      <td>False</td>\n",
       "      <td>761140.0</td>\n",
       "      <td>Kotoshiro</td>\n",
       "      <td>NaN</td>\n",
       "    </tr>\n",
       "    <tr>\n",
       "      <th>1</th>\n",
       "      <td>Making Fun, Inc.</td>\n",
       "      <td>['Free to Play', 'Indie', 'RPG', 'Strategy']</td>\n",
       "      <td>Ironbound</td>\n",
       "      <td>Ironbound</td>\n",
       "      <td>2018-01-04</td>\n",
       "      <td>['Free to Play', 'Strategy', 'Indie', 'RPG', '...</td>\n",
       "      <td>['Single-player', 'Multi-player', 'Online Mult...</td>\n",
       "      <td>0.00</td>\n",
       "      <td>False</td>\n",
       "      <td>643980.0</td>\n",
       "      <td>Secret Level SRL</td>\n",
       "      <td>Mostly Positive</td>\n",
       "    </tr>\n",
       "    <tr>\n",
       "      <th>2</th>\n",
       "      <td>Poolians.com</td>\n",
       "      <td>['Casual', 'Free to Play', 'Indie', 'Simulatio...</td>\n",
       "      <td>Real Pool 3D - Poolians</td>\n",
       "      <td>Real Pool 3D - Poolians</td>\n",
       "      <td>2017-07-24</td>\n",
       "      <td>['Free to Play', 'Simulation', 'Sports', 'Casu...</td>\n",
       "      <td>['Single-player', 'Multi-player', 'Online Mult...</td>\n",
       "      <td>0.00</td>\n",
       "      <td>False</td>\n",
       "      <td>670290.0</td>\n",
       "      <td>Poolians.com</td>\n",
       "      <td>Mostly Positive</td>\n",
       "    </tr>\n",
       "    <tr>\n",
       "      <th>3</th>\n",
       "      <td>彼岸领域</td>\n",
       "      <td>['Action', 'Adventure', 'Casual']</td>\n",
       "      <td>弹炸人2222</td>\n",
       "      <td>弹炸人2222</td>\n",
       "      <td>2017-12-07</td>\n",
       "      <td>['Action', 'Adventure', 'Casual']</td>\n",
       "      <td>['Single-player']</td>\n",
       "      <td>0.99</td>\n",
       "      <td>False</td>\n",
       "      <td>767400.0</td>\n",
       "      <td>彼岸领域</td>\n",
       "      <td>NaN</td>\n",
       "    </tr>\n",
       "    <tr>\n",
       "      <th>4</th>\n",
       "      <td>NaN</td>\n",
       "      <td>NaN</td>\n",
       "      <td>Log Challenge</td>\n",
       "      <td>NaN</td>\n",
       "      <td>NaN</td>\n",
       "      <td>['Action', 'Indie', 'Casual', 'Sports']</td>\n",
       "      <td>['Single-player', 'Full controller support', '...</td>\n",
       "      <td>2.99</td>\n",
       "      <td>False</td>\n",
       "      <td>773570.0</td>\n",
       "      <td>NaN</td>\n",
       "      <td>NaN</td>\n",
       "    </tr>\n",
       "  </tbody>\n",
       "</table>\n",
       "</div>"
      ],
      "text/plain": [
       "          publisher                                             genres  \\\n",
       "0         Kotoshiro  ['Action', 'Casual', 'Indie', 'Simulation', 'S...   \n",
       "1  Making Fun, Inc.       ['Free to Play', 'Indie', 'RPG', 'Strategy']   \n",
       "2      Poolians.com  ['Casual', 'Free to Play', 'Indie', 'Simulatio...   \n",
       "3              彼岸领域                  ['Action', 'Adventure', 'Casual']   \n",
       "4               NaN                                                NaN   \n",
       "\n",
       "                  app_name                    title release_date  \\\n",
       "0      Lost Summoner Kitty      Lost Summoner Kitty   2018-01-04   \n",
       "1                Ironbound                Ironbound   2018-01-04   \n",
       "2  Real Pool 3D - Poolians  Real Pool 3D - Poolians   2017-07-24   \n",
       "3                  弹炸人2222                  弹炸人2222   2017-12-07   \n",
       "4            Log Challenge                      NaN          NaN   \n",
       "\n",
       "                                                tags  \\\n",
       "0  ['Strategy', 'Action', 'Indie', 'Casual', 'Sim...   \n",
       "1  ['Free to Play', 'Strategy', 'Indie', 'RPG', '...   \n",
       "2  ['Free to Play', 'Simulation', 'Sports', 'Casu...   \n",
       "3                  ['Action', 'Adventure', 'Casual']   \n",
       "4            ['Action', 'Indie', 'Casual', 'Sports']   \n",
       "\n",
       "                                               specs  price  early_access  \\\n",
       "0                                  ['Single-player']   4.99         False   \n",
       "1  ['Single-player', 'Multi-player', 'Online Mult...   0.00         False   \n",
       "2  ['Single-player', 'Multi-player', 'Online Mult...   0.00         False   \n",
       "3                                  ['Single-player']   0.99         False   \n",
       "4  ['Single-player', 'Full controller support', '...   2.99         False   \n",
       "\n",
       "         id         developer        sentiment  \n",
       "0  761140.0         Kotoshiro              NaN  \n",
       "1  643980.0  Secret Level SRL  Mostly Positive  \n",
       "2  670290.0      Poolians.com  Mostly Positive  \n",
       "3  767400.0              彼岸领域              NaN  \n",
       "4  773570.0               NaN              NaN  "
      ]
     },
     "execution_count": 292,
     "metadata": {},
     "output_type": "execute_result"
    }
   ],
   "source": [
    "games.head()"
   ]
  },
  {
   "cell_type": "markdown",
   "id": "suspended-furniture",
   "metadata": {},
   "source": [
    "### EDA"
   ]
  },
  {
   "cell_type": "markdown",
   "id": "composed-editing",
   "metadata": {},
   "source": [
    "Como expliqué anteriormente el punto clave de este filtro es la similitud entre juegos (en base a sus características) por ende profundizaré el EDA realizado en el proyecto anterior en este dataset: "
   ]
  },
  {
   "cell_type": "code",
   "execution_count": 293,
   "id": "manual-begin",
   "metadata": {},
   "outputs": [
    {
     "data": {
      "text/plain": [
       "(31203, 12)"
      ]
     },
     "execution_count": 293,
     "metadata": {},
     "output_type": "execute_result"
    }
   ],
   "source": [
    "games.shape"
   ]
  },
  {
   "cell_type": "code",
   "execution_count": 294,
   "id": "alternate-campaign",
   "metadata": {},
   "outputs": [
    {
     "data": {
      "text/plain": [
       "publisher       7903\n",
       "genres          3234\n",
       "app_name           2\n",
       "title           2013\n",
       "release_date    2029\n",
       "tags             160\n",
       "specs            555\n",
       "price              0\n",
       "early_access       0\n",
       "id                 2\n",
       "developer       3250\n",
       "sentiment       7017\n",
       "dtype: int64"
      ]
     },
     "execution_count": 294,
     "metadata": {},
     "output_type": "execute_result"
    }
   ],
   "source": [
    "games.isna().sum()"
   ]
  },
  {
   "cell_type": "markdown",
   "id": "rubber-realtor",
   "metadata": {},
   "source": [
    "La columna \"app_name\" y \"title\" poseen la misma información, por lo que observando la cantidad de valores nulos de \"title\" procedo a eliminarla y continuar trabajando con \"app_name\"."
   ]
  },
  {
   "cell_type": "code",
   "execution_count": 295,
   "id": "retired-symphony",
   "metadata": {},
   "outputs": [],
   "source": [
    "games = games.drop(columns=['title'], axis=1)\n",
    "games = games[games.app_name.isna() == False] #Además elimino los juegos sin nombre\n",
    "games = games[games.id.isna() == False] #Además elimino los juegos sin id"
   ]
  },
  {
   "cell_type": "code",
   "execution_count": 296,
   "id": "retired-nickel",
   "metadata": {},
   "outputs": [
    {
     "name": "stdout",
     "output_type": "stream",
     "text": [
      "Cantidad de valores distintos de publisher: 8163\n",
      "Cantidad de valores distintos de developer: 10872\n"
     ]
    }
   ],
   "source": [
    "print(\"Cantidad de valores distintos de publisher:\", len(games['publisher'].unique()))\n",
    "print(\"Cantidad de valores distintos de developer:\", len(games['developer'].unique()))"
   ]
  },
  {
   "cell_type": "markdown",
   "id": "premier-portland",
   "metadata": {},
   "source": [
    "En base a la alta cantidad de valores distintos de las columnas \"publisher\" y \"developer\" procederé a eliminarlas ya que no aportarán ningún valor a la elaboración del filtro. Lo mismo sucede con la columna \"release_date\"."
   ]
  },
  {
   "cell_type": "code",
   "execution_count": 297,
   "id": "foreign-saturday",
   "metadata": {},
   "outputs": [
    {
     "data": {
      "text/html": [
       "<div>\n",
       "<style scoped>\n",
       "    .dataframe tbody tr th:only-of-type {\n",
       "        vertical-align: middle;\n",
       "    }\n",
       "\n",
       "    .dataframe tbody tr th {\n",
       "        vertical-align: top;\n",
       "    }\n",
       "\n",
       "    .dataframe thead th {\n",
       "        text-align: right;\n",
       "    }\n",
       "</style>\n",
       "<table border=\"1\" class=\"dataframe\">\n",
       "  <thead>\n",
       "    <tr style=\"text-align: right;\">\n",
       "      <th></th>\n",
       "      <th>genres</th>\n",
       "      <th>app_name</th>\n",
       "      <th>tags</th>\n",
       "      <th>specs</th>\n",
       "      <th>price</th>\n",
       "      <th>early_access</th>\n",
       "      <th>id</th>\n",
       "      <th>sentiment</th>\n",
       "    </tr>\n",
       "  </thead>\n",
       "  <tbody>\n",
       "    <tr>\n",
       "      <th>0</th>\n",
       "      <td>['Action', 'Casual', 'Indie', 'Simulation', 'S...</td>\n",
       "      <td>Lost Summoner Kitty</td>\n",
       "      <td>['Strategy', 'Action', 'Indie', 'Casual', 'Sim...</td>\n",
       "      <td>['Single-player']</td>\n",
       "      <td>4.99</td>\n",
       "      <td>False</td>\n",
       "      <td>761140.0</td>\n",
       "      <td>NaN</td>\n",
       "    </tr>\n",
       "    <tr>\n",
       "      <th>1</th>\n",
       "      <td>['Free to Play', 'Indie', 'RPG', 'Strategy']</td>\n",
       "      <td>Ironbound</td>\n",
       "      <td>['Free to Play', 'Strategy', 'Indie', 'RPG', '...</td>\n",
       "      <td>['Single-player', 'Multi-player', 'Online Mult...</td>\n",
       "      <td>0.00</td>\n",
       "      <td>False</td>\n",
       "      <td>643980.0</td>\n",
       "      <td>Mostly Positive</td>\n",
       "    </tr>\n",
       "    <tr>\n",
       "      <th>2</th>\n",
       "      <td>['Casual', 'Free to Play', 'Indie', 'Simulatio...</td>\n",
       "      <td>Real Pool 3D - Poolians</td>\n",
       "      <td>['Free to Play', 'Simulation', 'Sports', 'Casu...</td>\n",
       "      <td>['Single-player', 'Multi-player', 'Online Mult...</td>\n",
       "      <td>0.00</td>\n",
       "      <td>False</td>\n",
       "      <td>670290.0</td>\n",
       "      <td>Mostly Positive</td>\n",
       "    </tr>\n",
       "    <tr>\n",
       "      <th>3</th>\n",
       "      <td>['Action', 'Adventure', 'Casual']</td>\n",
       "      <td>弹炸人2222</td>\n",
       "      <td>['Action', 'Adventure', 'Casual']</td>\n",
       "      <td>['Single-player']</td>\n",
       "      <td>0.99</td>\n",
       "      <td>False</td>\n",
       "      <td>767400.0</td>\n",
       "      <td>NaN</td>\n",
       "    </tr>\n",
       "    <tr>\n",
       "      <th>4</th>\n",
       "      <td>NaN</td>\n",
       "      <td>Log Challenge</td>\n",
       "      <td>['Action', 'Indie', 'Casual', 'Sports']</td>\n",
       "      <td>['Single-player', 'Full controller support', '...</td>\n",
       "      <td>2.99</td>\n",
       "      <td>False</td>\n",
       "      <td>773570.0</td>\n",
       "      <td>NaN</td>\n",
       "    </tr>\n",
       "  </tbody>\n",
       "</table>\n",
       "</div>"
      ],
      "text/plain": [
       "                                              genres                 app_name  \\\n",
       "0  ['Action', 'Casual', 'Indie', 'Simulation', 'S...      Lost Summoner Kitty   \n",
       "1       ['Free to Play', 'Indie', 'RPG', 'Strategy']                Ironbound   \n",
       "2  ['Casual', 'Free to Play', 'Indie', 'Simulatio...  Real Pool 3D - Poolians   \n",
       "3                  ['Action', 'Adventure', 'Casual']                  弹炸人2222   \n",
       "4                                                NaN            Log Challenge   \n",
       "\n",
       "                                                tags  \\\n",
       "0  ['Strategy', 'Action', 'Indie', 'Casual', 'Sim...   \n",
       "1  ['Free to Play', 'Strategy', 'Indie', 'RPG', '...   \n",
       "2  ['Free to Play', 'Simulation', 'Sports', 'Casu...   \n",
       "3                  ['Action', 'Adventure', 'Casual']   \n",
       "4            ['Action', 'Indie', 'Casual', 'Sports']   \n",
       "\n",
       "                                               specs  price  early_access  \\\n",
       "0                                  ['Single-player']   4.99         False   \n",
       "1  ['Single-player', 'Multi-player', 'Online Mult...   0.00         False   \n",
       "2  ['Single-player', 'Multi-player', 'Online Mult...   0.00         False   \n",
       "3                                  ['Single-player']   0.99         False   \n",
       "4  ['Single-player', 'Full controller support', '...   2.99         False   \n",
       "\n",
       "         id        sentiment  \n",
       "0  761140.0              NaN  \n",
       "1  643980.0  Mostly Positive  \n",
       "2  670290.0  Mostly Positive  \n",
       "3  767400.0              NaN  \n",
       "4  773570.0              NaN  "
      ]
     },
     "execution_count": 297,
     "metadata": {},
     "output_type": "execute_result"
    }
   ],
   "source": [
    "games = games.drop(columns=['publisher','developer', 'release_date'], axis=1)\n",
    "games.head()"
   ]
  },
  {
   "cell_type": "code",
   "execution_count": 298,
   "id": "monetary-cemetery",
   "metadata": {
    "scrolled": true
   },
   "outputs": [
    {
     "data": {
      "text/plain": [
       "(31200, 8)"
      ]
     },
     "execution_count": 298,
     "metadata": {},
     "output_type": "execute_result"
    }
   ],
   "source": [
    "games.shape"
   ]
  },
  {
   "cell_type": "markdown",
   "id": "antique-beads",
   "metadata": {},
   "source": [
    "#### Encoding y transformación de datos"
   ]
  },
  {
   "cell_type": "code",
   "execution_count": 299,
   "id": "after-bunny",
   "metadata": {},
   "outputs": [
    {
     "data": {
      "text/plain": [
       "array([False,  True])"
      ]
     },
     "execution_count": 299,
     "metadata": {},
     "output_type": "execute_result"
    }
   ],
   "source": [
    "games['early_access'].unique()"
   ]
  },
  {
   "cell_type": "markdown",
   "id": "suspected-peeing",
   "metadata": {},
   "source": [
    "La columna \"early_access\" puedo convertirla a una columna booleana con valores 0 (sin acceso anticipado) y 1 (con acceso anticipado) para un tratamiento más eficiente"
   ]
  },
  {
   "cell_type": "code",
   "execution_count": 300,
   "id": "instructional-jesus",
   "metadata": {},
   "outputs": [
    {
     "data": {
      "text/plain": [
       "array([0, 1], dtype=int64)"
      ]
     },
     "execution_count": 300,
     "metadata": {},
     "output_type": "execute_result"
    }
   ],
   "source": [
    "games['early_access']=games['early_access'].replace({False: 0, True: 1})\n",
    "games['early_access'].unique()"
   ]
  },
  {
   "cell_type": "markdown",
   "id": "close-italic",
   "metadata": {},
   "source": [
    "Las columnas \"genres\", \"tags\" y \"specs\" son actualmente \"strings\", por tanto deben ser convertidas a listas para poder ser utilizadas mediante el filtro basado en contenido"
   ]
  },
  {
   "cell_type": "code",
   "execution_count": 301,
   "id": "developed-result",
   "metadata": {},
   "outputs": [
    {
     "name": "stdout",
     "output_type": "stream",
     "text": [
      "['Action', 'Casual', 'Indie', 'Simulation', 'Strategy']\n",
      "<class 'str'>\n"
     ]
    }
   ],
   "source": [
    "print(games.iloc[0,0]) #Ejemplo de \"genres\" del primer registro\n",
    "print(type(games.iloc[0,0]))"
   ]
  },
  {
   "cell_type": "code",
   "execution_count": 302,
   "id": "stock-thinking",
   "metadata": {
    "code_folding": []
   },
   "outputs": [],
   "source": [
    "from ast import literal_eval\n",
    "# Convierto el string a una lista\n",
    "def get_list(registro):\n",
    "    if type(registro) == str:\n",
    "            return literal_eval(registro)\n",
    "    return np.nan"
   ]
  },
  {
   "cell_type": "code",
   "execution_count": 303,
   "id": "excess-interest",
   "metadata": {},
   "outputs": [],
   "source": [
    "games['genres'] = games['genres'].apply(lambda x: get_list(x))\n",
    "games['tags'] = games['tags'].apply(lambda x: get_list(x))\n",
    "games['specs'] = games['specs'].apply(lambda x: get_list(x))"
   ]
  },
  {
   "cell_type": "code",
   "execution_count": 304,
   "id": "coastal-letter",
   "metadata": {},
   "outputs": [
    {
     "name": "stdout",
     "output_type": "stream",
     "text": [
      "['Action', 'Casual', 'Indie', 'Simulation', 'Strategy']\n",
      "<class 'list'>\n"
     ]
    }
   ],
   "source": [
    "print(games.iloc[0,0]) #Ejemplo de \"genres\" del primer registro\n",
    "print(type(games.iloc[0,0]))"
   ]
  },
  {
   "cell_type": "code",
   "execution_count": 305,
   "id": "grave-curtis",
   "metadata": {},
   "outputs": [
    {
     "data": {
      "text/html": [
       "<div>\n",
       "<style scoped>\n",
       "    .dataframe tbody tr th:only-of-type {\n",
       "        vertical-align: middle;\n",
       "    }\n",
       "\n",
       "    .dataframe tbody tr th {\n",
       "        vertical-align: top;\n",
       "    }\n",
       "\n",
       "    .dataframe thead th {\n",
       "        text-align: right;\n",
       "    }\n",
       "</style>\n",
       "<table border=\"1\" class=\"dataframe\">\n",
       "  <thead>\n",
       "    <tr style=\"text-align: right;\">\n",
       "      <th></th>\n",
       "      <th>genres</th>\n",
       "      <th>app_name</th>\n",
       "      <th>tags</th>\n",
       "      <th>specs</th>\n",
       "      <th>price</th>\n",
       "      <th>early_access</th>\n",
       "      <th>id</th>\n",
       "      <th>sentiment</th>\n",
       "    </tr>\n",
       "  </thead>\n",
       "  <tbody>\n",
       "    <tr>\n",
       "      <th>0</th>\n",
       "      <td>[Action, Casual, Indie, Simulation, Strategy]</td>\n",
       "      <td>Lost Summoner Kitty</td>\n",
       "      <td>[Strategy, Action, Indie, Casual, Simulation]</td>\n",
       "      <td>[Single-player]</td>\n",
       "      <td>4.99</td>\n",
       "      <td>0</td>\n",
       "      <td>761140.0</td>\n",
       "      <td>NaN</td>\n",
       "    </tr>\n",
       "    <tr>\n",
       "      <th>1</th>\n",
       "      <td>[Free to Play, Indie, RPG, Strategy]</td>\n",
       "      <td>Ironbound</td>\n",
       "      <td>[Free to Play, Strategy, Indie, RPG, Card Game...</td>\n",
       "      <td>[Single-player, Multi-player, Online Multi-Pla...</td>\n",
       "      <td>0.00</td>\n",
       "      <td>0</td>\n",
       "      <td>643980.0</td>\n",
       "      <td>Mostly Positive</td>\n",
       "    </tr>\n",
       "    <tr>\n",
       "      <th>2</th>\n",
       "      <td>[Casual, Free to Play, Indie, Simulation, Sports]</td>\n",
       "      <td>Real Pool 3D - Poolians</td>\n",
       "      <td>[Free to Play, Simulation, Sports, Casual, Ind...</td>\n",
       "      <td>[Single-player, Multi-player, Online Multi-Pla...</td>\n",
       "      <td>0.00</td>\n",
       "      <td>0</td>\n",
       "      <td>670290.0</td>\n",
       "      <td>Mostly Positive</td>\n",
       "    </tr>\n",
       "    <tr>\n",
       "      <th>3</th>\n",
       "      <td>[Action, Adventure, Casual]</td>\n",
       "      <td>弹炸人2222</td>\n",
       "      <td>[Action, Adventure, Casual]</td>\n",
       "      <td>[Single-player]</td>\n",
       "      <td>0.99</td>\n",
       "      <td>0</td>\n",
       "      <td>767400.0</td>\n",
       "      <td>NaN</td>\n",
       "    </tr>\n",
       "    <tr>\n",
       "      <th>4</th>\n",
       "      <td>NaN</td>\n",
       "      <td>Log Challenge</td>\n",
       "      <td>[Action, Indie, Casual, Sports]</td>\n",
       "      <td>[Single-player, Full controller support, HTC V...</td>\n",
       "      <td>2.99</td>\n",
       "      <td>0</td>\n",
       "      <td>773570.0</td>\n",
       "      <td>NaN</td>\n",
       "    </tr>\n",
       "  </tbody>\n",
       "</table>\n",
       "</div>"
      ],
      "text/plain": [
       "                                              genres                 app_name  \\\n",
       "0      [Action, Casual, Indie, Simulation, Strategy]      Lost Summoner Kitty   \n",
       "1               [Free to Play, Indie, RPG, Strategy]                Ironbound   \n",
       "2  [Casual, Free to Play, Indie, Simulation, Sports]  Real Pool 3D - Poolians   \n",
       "3                        [Action, Adventure, Casual]                  弹炸人2222   \n",
       "4                                                NaN            Log Challenge   \n",
       "\n",
       "                                                tags  \\\n",
       "0      [Strategy, Action, Indie, Casual, Simulation]   \n",
       "1  [Free to Play, Strategy, Indie, RPG, Card Game...   \n",
       "2  [Free to Play, Simulation, Sports, Casual, Ind...   \n",
       "3                        [Action, Adventure, Casual]   \n",
       "4                    [Action, Indie, Casual, Sports]   \n",
       "\n",
       "                                               specs  price  early_access  \\\n",
       "0                                    [Single-player]   4.99             0   \n",
       "1  [Single-player, Multi-player, Online Multi-Pla...   0.00             0   \n",
       "2  [Single-player, Multi-player, Online Multi-Pla...   0.00             0   \n",
       "3                                    [Single-player]   0.99             0   \n",
       "4  [Single-player, Full controller support, HTC V...   2.99             0   \n",
       "\n",
       "         id        sentiment  \n",
       "0  761140.0              NaN  \n",
       "1  643980.0  Mostly Positive  \n",
       "2  670290.0  Mostly Positive  \n",
       "3  767400.0              NaN  \n",
       "4  773570.0              NaN  "
      ]
     },
     "execution_count": 305,
     "metadata": {},
     "output_type": "execute_result"
    }
   ],
   "source": [
    "games.head()"
   ]
  },
  {
   "cell_type": "code",
   "execution_count": 306,
   "id": "guilty-solution",
   "metadata": {
    "code_folding": []
   },
   "outputs": [],
   "source": [
    "#Defino una función para poder generar una lista única con todos los valores de las features de tipo lista\n",
    "\n",
    "def unique_list(columna):\n",
    "    unique = []\n",
    "    for registro in columna:\n",
    "        if (type(registro) == list):\n",
    "            for valor in registro:\n",
    "                unique.append(valor)\n",
    "    return unique"
   ]
  },
  {
   "cell_type": "code",
   "execution_count": 307,
   "id": "tribal-collar",
   "metadata": {
    "scrolled": true
   },
   "outputs": [],
   "source": [
    "#Listas con todos los valores de las features\n",
    "genres= unique_list(games['genres'])\n",
    "tags= unique_list(games['tags'])\n",
    "specs= unique_list(games['specs'])"
   ]
  },
  {
   "cell_type": "code",
   "execution_count": 308,
   "id": "simple-decade",
   "metadata": {},
   "outputs": [
    {
     "name": "stdout",
     "output_type": "stream",
     "text": [
      "Cantidad de valores distintos de genres: 22\n"
     ]
    },
    {
     "data": {
      "image/png": "[encoded data removed]",
      "text/plain": [
       "<Figure size 720x360 with 1 Axes>"
      ]
     },
     "metadata": {
      "needs_background": "light"
     },
     "output_type": "display_data"
    }
   ],
   "source": [
    "plt.figure(figsize=(10,5))\n",
    "sns.countplot(y=genres).set(xlabel='Cantidad de Juegos', ylabel='Genres') #Gráfico en Seaborn\n",
    "print(\"Cantidad de valores distintos de genres:\", len(set(genres)))"
   ]
  },
  {
   "cell_type": "code",
   "execution_count": 309,
   "id": "typical-effectiveness",
   "metadata": {
    "scrolled": true
   },
   "outputs": [
    {
     "name": "stdout",
     "output_type": "stream",
     "text": [
      "Cantidad de valores distintos de Tags: 339\n"
     ]
    },
    {
     "data": {
      "text/plain": [
       "[Text(0.5, 0, 'Cantidad de Juegos'), Text(0, 0.5, 'Tags')]"
      ]
     },
     "execution_count": 309,
     "metadata": {},
     "output_type": "execute_result"
    },
    {
     "data": {
      "image/png": "[encoded data removed]",
      "text/plain": [
       "<Figure size 1080x4320 with 1 Axes>"
      ]
     },
     "metadata": {
      "needs_background": "light"
     },
     "output_type": "display_data"
    }
   ],
   "source": [
    "plt.figure(figsize=(15,60))\n",
    "print(\"Cantidad de valores distintos de Tags:\", len(set(tags)))\n",
    "sns.countplot(y=tags).set(xlabel='Cantidad de Juegos', ylabel='Tags') #Gráfico en Seaborn"
   ]
  },
  {
   "cell_type": "code",
   "execution_count": 310,
   "id": "assured-europe",
   "metadata": {},
   "outputs": [
    {
     "name": "stdout",
     "output_type": "stream",
     "text": [
      "Cantidad de valores distintos de Specs: 40\n"
     ]
    },
    {
     "data": {
      "text/plain": [
       "[Text(0.5, 0, 'Cantidad de Juegos'), Text(0, 0.5, 'Specs')]"
      ]
     },
     "execution_count": 310,
     "metadata": {},
     "output_type": "execute_result"
    },
    {
     "data": {
      "image/png": "[encoded data removed]",
      "text/plain": [
       "<Figure size 720x720 with 1 Axes>"
      ]
     },
     "metadata": {
      "needs_background": "light"
     },
     "output_type": "display_data"
    }
   ],
   "source": [
    "plt.figure(figsize=(10,10))\n",
    "print(\"Cantidad de valores distintos de Specs:\", len(set(specs)))\n",
    "sns.countplot(y=specs).set(xlabel='Cantidad de Juegos', ylabel='Specs') #Gráfico en Seaborn"
   ]
  },
  {
   "cell_type": "code",
   "execution_count": 311,
   "id": "clean-jordan",
   "metadata": {},
   "outputs": [
    {
     "name": "stdout",
     "output_type": "stream",
     "text": [
      "Cantidad de valores distintos de Sentiment: 19\n"
     ]
    },
    {
     "data": {
      "text/plain": [
       "[Text(0.5, 0, 'Cantidad de Juegos'), Text(0, 0.5, 'Sentiment')]"
      ]
     },
     "execution_count": 311,
     "metadata": {},
     "output_type": "execute_result"
    },
    {
     "data": {
      "image/png": "[encoded data removed]",
      "text/plain": [
       "<Figure size 720x720 with 1 Axes>"
      ]
     },
     "metadata": {
      "needs_background": "light"
     },
     "output_type": "display_data"
    }
   ],
   "source": [
    "plt.figure(figsize=(10,10))\n",
    "print(\"Cantidad de valores distintos de Sentiment:\", len(games['sentiment'].unique()))\n",
    "sns.countplot(data=games,y=\"sentiment\").set(xlabel='Cantidad de Juegos', ylabel='Sentiment') #Gráfico en Seaborn"
   ]
  },
  {
   "cell_type": "markdown",
   "id": "social-jimmy",
   "metadata": {},
   "source": [
    "#### Imputación de valores faltantes"
   ]
  },
  {
   "cell_type": "code",
   "execution_count": 312,
   "id": "bridal-backup",
   "metadata": {},
   "outputs": [
    {
     "data": {
      "text/html": [
       "<div>\n",
       "<style scoped>\n",
       "    .dataframe tbody tr th:only-of-type {\n",
       "        vertical-align: middle;\n",
       "    }\n",
       "\n",
       "    .dataframe tbody tr th {\n",
       "        vertical-align: top;\n",
       "    }\n",
       "\n",
       "    .dataframe thead th {\n",
       "        text-align: right;\n",
       "    }\n",
       "</style>\n",
       "<table border=\"1\" class=\"dataframe\">\n",
       "  <thead>\n",
       "    <tr style=\"text-align: right;\">\n",
       "      <th></th>\n",
       "      <th>price</th>\n",
       "      <th>early_access</th>\n",
       "      <th>id</th>\n",
       "    </tr>\n",
       "  </thead>\n",
       "  <tbody>\n",
       "    <tr>\n",
       "      <th>price</th>\n",
       "      <td>1.000000</td>\n",
       "      <td>0.090132</td>\n",
       "      <td>-0.138612</td>\n",
       "    </tr>\n",
       "    <tr>\n",
       "      <th>early_access</th>\n",
       "      <td>0.090132</td>\n",
       "      <td>1.000000</td>\n",
       "      <td>0.106766</td>\n",
       "    </tr>\n",
       "    <tr>\n",
       "      <th>id</th>\n",
       "      <td>-0.138612</td>\n",
       "      <td>0.106766</td>\n",
       "      <td>1.000000</td>\n",
       "    </tr>\n",
       "  </tbody>\n",
       "</table>\n",
       "</div>"
      ],
      "text/plain": [
       "                 price  early_access        id\n",
       "price         1.000000      0.090132 -0.138612\n",
       "early_access  0.090132      1.000000  0.106766\n",
       "id           -0.138612      0.106766  1.000000"
      ]
     },
     "execution_count": 312,
     "metadata": {},
     "output_type": "execute_result"
    }
   ],
   "source": [
    "games.corr()"
   ]
  },
  {
   "cell_type": "markdown",
   "id": "worldwide-antarctica",
   "metadata": {},
   "source": [
    "Debido a la baja correlación entre las variables podemos descartar algún pérdida de valores nulos por MNAR (Missing not At Random)"
   ]
  },
  {
   "cell_type": "code",
   "execution_count": 313,
   "id": "executive-gibraltar",
   "metadata": {},
   "outputs": [
    {
     "data": {
      "text/plain": [
       "genres          3233\n",
       "app_name           0\n",
       "tags             159\n",
       "specs            554\n",
       "price              0\n",
       "early_access       0\n",
       "id                 0\n",
       "sentiment       7016\n",
       "dtype: int64"
      ]
     },
     "execution_count": 313,
     "metadata": {},
     "output_type": "execute_result"
    }
   ],
   "source": [
    "games.isna().sum()"
   ]
  },
  {
   "cell_type": "code",
   "execution_count": 314,
   "id": "rocky-trick",
   "metadata": {},
   "outputs": [
    {
     "name": "stdout",
     "output_type": "stream",
     "text": [
      "sentiment       22.49\n",
      "genres          10.36\n",
      "specs            1.78\n",
      "tags             0.51\n",
      "app_name         0.00\n",
      "price            0.00\n",
      "early_access     0.00\n",
      "id               0.00\n",
      "dtype: float64\n"
     ]
    }
   ],
   "source": [
    "print(round((games.isna().sum()* 100/ len(games)),2).sort_values(ascending=False)) #valores faltantes por columna en %"
   ]
  },
  {
   "cell_type": "markdown",
   "id": "placed-delivery",
   "metadata": {},
   "source": [
    "Analizaremos a continuación cada una de las columnas que incluyen valores nulos, de forma tal de tratarlas de acuerdo a su origen:"
   ]
  },
  {
   "cell_type": "code",
   "execution_count": 315,
   "id": "israeli-florist",
   "metadata": {},
   "outputs": [
    {
     "name": "stdout",
     "output_type": "stream",
     "text": [
      "Mixed                      12.62\n",
      "Very Positive              11.95\n",
      "Positive                   10.27\n",
      "Mostly Positive             8.39\n",
      "1 user reviews              7.82\n",
      "2 user reviews              5.47\n",
      "3 user reviews              3.85\n",
      "4 user reviews              3.00\n",
      "5 user reviews              2.66\n",
      "Mostly Negative             2.51\n",
      "6 user reviews              2.36\n",
      "7 user reviews              1.95\n",
      "8 user reviews              1.68\n",
      "9 user reviews              1.52\n",
      "Overwhelmingly Positive     0.94\n",
      "Negative                    0.39\n",
      "Very Negative               0.09\n",
      "Overwhelmingly Negative     0.02\n",
      "Name: sentiment, dtype: float64\n"
     ]
    }
   ],
   "source": [
    "print(round((games.sentiment.value_counts()* 100/ len(games)),2).sort_values(ascending=False)) #valores de sentiment en %"
   ]
  },
  {
   "cell_type": "markdown",
   "id": "assured-stuart",
   "metadata": {},
   "source": [
    "Para el caso de la columna \"sentiment\" podemos observar que sus valores se distribuyen de una forma bastante uniforme, por tanto si tomamos sus 10 valores más ocurrentes representamos un 70% del volumen del dataset. De acuerdo a esto completaré los valores faltantes de forma aleatoria con cualquiera de estos 10 valores:"
   ]
  },
  {
   "cell_type": "code",
   "execution_count": 316,
   "id": "visible-likelihood",
   "metadata": {},
   "outputs": [],
   "source": [
    "games['sentiment'] = games['sentiment'].fillna(pd.Series(np.random.choice(['Mixed','Very Positive','Positive','Mostly Positive','1 user reviews','2 user reviews','3 user reviews','4 user reviews','5 user reviews','Mostly Negative']\n",
    "                                                                                , size=len(games.index)+1)))"
   ]
  },
  {
   "cell_type": "code",
   "execution_count": 317,
   "id": "patient-hostel",
   "metadata": {},
   "outputs": [
    {
     "data": {
      "text/html": [
       "<div>\n",
       "<style scoped>\n",
       "    .dataframe tbody tr th:only-of-type {\n",
       "        vertical-align: middle;\n",
       "    }\n",
       "\n",
       "    .dataframe tbody tr th {\n",
       "        vertical-align: top;\n",
       "    }\n",
       "\n",
       "    .dataframe thead th {\n",
       "        text-align: right;\n",
       "    }\n",
       "</style>\n",
       "<table border=\"1\" class=\"dataframe\">\n",
       "  <thead>\n",
       "    <tr style=\"text-align: right;\">\n",
       "      <th></th>\n",
       "      <th>genres</th>\n",
       "      <th>app_name</th>\n",
       "      <th>tags</th>\n",
       "      <th>specs</th>\n",
       "      <th>price</th>\n",
       "      <th>early_access</th>\n",
       "      <th>id</th>\n",
       "      <th>sentiment</th>\n",
       "    </tr>\n",
       "  </thead>\n",
       "  <tbody>\n",
       "    <tr>\n",
       "      <th>4</th>\n",
       "      <td>NaN</td>\n",
       "      <td>Log Challenge</td>\n",
       "      <td>[Action, Indie, Casual, Sports]</td>\n",
       "      <td>[Single-player, Full controller support, HTC V...</td>\n",
       "      <td>2.99</td>\n",
       "      <td>0</td>\n",
       "      <td>773570.0</td>\n",
       "      <td>Positive</td>\n",
       "    </tr>\n",
       "    <tr>\n",
       "      <th>11</th>\n",
       "      <td>NaN</td>\n",
       "      <td>Icarus Six Sixty Six</td>\n",
       "      <td>[Casual]</td>\n",
       "      <td>[Single-player, HTC Vive, Tracked Motion Contr...</td>\n",
       "      <td>0.00</td>\n",
       "      <td>0</td>\n",
       "      <td>724910.0</td>\n",
       "      <td>3 user reviews</td>\n",
       "    </tr>\n",
       "    <tr>\n",
       "      <th>18</th>\n",
       "      <td>NaN</td>\n",
       "      <td>After Life VR</td>\n",
       "      <td>[Early Access, Indie, VR]</td>\n",
       "      <td>[Single-player, HTC Vive, Tracked Motion Contr...</td>\n",
       "      <td>4.99</td>\n",
       "      <td>1</td>\n",
       "      <td>772590.0</td>\n",
       "      <td>Mostly Positive</td>\n",
       "    </tr>\n",
       "    <tr>\n",
       "      <th>19</th>\n",
       "      <td>NaN</td>\n",
       "      <td>Kitty Hawk</td>\n",
       "      <td>[Early Access, Action, Adventure, Indie, Casual]</td>\n",
       "      <td>[Single-player, Steam Leaderboards, HTC Vive, ...</td>\n",
       "      <td>2.99</td>\n",
       "      <td>1</td>\n",
       "      <td>640250.0</td>\n",
       "      <td>4 user reviews</td>\n",
       "    </tr>\n",
       "    <tr>\n",
       "      <th>21</th>\n",
       "      <td>NaN</td>\n",
       "      <td>Mortars VR</td>\n",
       "      <td>[Early Access, Strategy, Action, Indie, Casual...</td>\n",
       "      <td>[Single-player, Multi-player, Online Multi-Pla...</td>\n",
       "      <td>0.99</td>\n",
       "      <td>1</td>\n",
       "      <td>711440.0</td>\n",
       "      <td>8 user reviews</td>\n",
       "    </tr>\n",
       "    <tr>\n",
       "      <th>...</th>\n",
       "      <td>...</td>\n",
       "      <td>...</td>\n",
       "      <td>...</td>\n",
       "      <td>...</td>\n",
       "      <td>...</td>\n",
       "      <td>...</td>\n",
       "      <td>...</td>\n",
       "      <td>...</td>\n",
       "    </tr>\n",
       "    <tr>\n",
       "      <th>31186</th>\n",
       "      <td>NaN</td>\n",
       "      <td>Robotpencil Presents: Exercise: Brushwork</td>\n",
       "      <td>[Design &amp; Illustration, Tutorial]</td>\n",
       "      <td>NaN</td>\n",
       "      <td>3.99</td>\n",
       "      <td>0</td>\n",
       "      <td>775640.0</td>\n",
       "      <td>5 user reviews</td>\n",
       "    </tr>\n",
       "    <tr>\n",
       "      <th>31187</th>\n",
       "      <td>NaN</td>\n",
       "      <td>Robotpencil Presents: Creative Composition</td>\n",
       "      <td>[Design &amp; Illustration, Tutorial]</td>\n",
       "      <td>NaN</td>\n",
       "      <td>3.99</td>\n",
       "      <td>0</td>\n",
       "      <td>777930.0</td>\n",
       "      <td>3 user reviews</td>\n",
       "    </tr>\n",
       "    <tr>\n",
       "      <th>31188</th>\n",
       "      <td>NaN</td>\n",
       "      <td>The Gamble House</td>\n",
       "      <td>[Movie]</td>\n",
       "      <td>[Captions available]</td>\n",
       "      <td>4.99</td>\n",
       "      <td>0</td>\n",
       "      <td>775370.0</td>\n",
       "      <td>1 user reviews</td>\n",
       "    </tr>\n",
       "    <tr>\n",
       "      <th>31189</th>\n",
       "      <td>NaN</td>\n",
       "      <td>Kalen Chock Presents: 2017 Free Tutorial</td>\n",
       "      <td>[Design &amp; Illustration, Tutorial]</td>\n",
       "      <td>NaN</td>\n",
       "      <td>0.00</td>\n",
       "      <td>0</td>\n",
       "      <td>777950.0</td>\n",
       "      <td>Mixed</td>\n",
       "    </tr>\n",
       "    <tr>\n",
       "      <th>31202</th>\n",
       "      <td>NaN</td>\n",
       "      <td>Maze Run VR</td>\n",
       "      <td>[Early Access, Adventure, Indie, Action, Simul...</td>\n",
       "      <td>[Single-player, Stats, Steam Leaderboards, HTC...</td>\n",
       "      <td>4.99</td>\n",
       "      <td>1</td>\n",
       "      <td>681550.0</td>\n",
       "      <td>Positive</td>\n",
       "    </tr>\n",
       "  </tbody>\n",
       "</table>\n",
       "<p>3233 rows × 8 columns</p>\n",
       "</div>"
      ],
      "text/plain": [
       "      genres                                    app_name  \\\n",
       "4        NaN                               Log Challenge   \n",
       "11       NaN                        Icarus Six Sixty Six   \n",
       "18       NaN                               After Life VR   \n",
       "19       NaN                                  Kitty Hawk   \n",
       "21       NaN                                  Mortars VR   \n",
       "...      ...                                         ...   \n",
       "31186    NaN   Robotpencil Presents: Exercise: Brushwork   \n",
       "31187    NaN  Robotpencil Presents: Creative Composition   \n",
       "31188    NaN                            The Gamble House   \n",
       "31189    NaN    Kalen Chock Presents: 2017 Free Tutorial   \n",
       "31202    NaN                                 Maze Run VR   \n",
       "\n",
       "                                                    tags  \\\n",
       "4                        [Action, Indie, Casual, Sports]   \n",
       "11                                              [Casual]   \n",
       "18                             [Early Access, Indie, VR]   \n",
       "19      [Early Access, Action, Adventure, Indie, Casual]   \n",
       "21     [Early Access, Strategy, Action, Indie, Casual...   \n",
       "...                                                  ...   \n",
       "31186                  [Design & Illustration, Tutorial]   \n",
       "31187                  [Design & Illustration, Tutorial]   \n",
       "31188                                            [Movie]   \n",
       "31189                  [Design & Illustration, Tutorial]   \n",
       "31202  [Early Access, Adventure, Indie, Action, Simul...   \n",
       "\n",
       "                                                   specs  price  early_access  \\\n",
       "4      [Single-player, Full controller support, HTC V...   2.99             0   \n",
       "11     [Single-player, HTC Vive, Tracked Motion Contr...   0.00             0   \n",
       "18     [Single-player, HTC Vive, Tracked Motion Contr...   4.99             1   \n",
       "19     [Single-player, Steam Leaderboards, HTC Vive, ...   2.99             1   \n",
       "21     [Single-player, Multi-player, Online Multi-Pla...   0.99             1   \n",
       "...                                                  ...    ...           ...   \n",
       "31186                                                NaN   3.99             0   \n",
       "31187                                                NaN   3.99             0   \n",
       "31188                               [Captions available]   4.99             0   \n",
       "31189                                                NaN   0.00             0   \n",
       "31202  [Single-player, Stats, Steam Leaderboards, HTC...   4.99             1   \n",
       "\n",
       "             id        sentiment  \n",
       "4      773570.0         Positive  \n",
       "11     724910.0   3 user reviews  \n",
       "18     772590.0  Mostly Positive  \n",
       "19     640250.0   4 user reviews  \n",
       "21     711440.0   8 user reviews  \n",
       "...         ...              ...  \n",
       "31186  775640.0   5 user reviews  \n",
       "31187  777930.0   3 user reviews  \n",
       "31188  775370.0   1 user reviews  \n",
       "31189  777950.0            Mixed  \n",
       "31202  681550.0         Positive  \n",
       "\n",
       "[3233 rows x 8 columns]"
      ]
     },
     "execution_count": 317,
     "metadata": {},
     "output_type": "execute_result"
    }
   ],
   "source": [
    "games[games.genres.isna()==True]"
   ]
  },
  {
   "cell_type": "markdown",
   "id": "expected-insulation",
   "metadata": {},
   "source": [
    "Para el caso de la columna \"genres\" podemos observar que hay un 10% de valores nulos. Sin embargo luego de realizar un análisis de los datos, podemos observar que la columna \"tags\" posee muchas veces valores de géneros asociados, aún cuando el registro no tiene valores de géneros. En base a esto desarrollaré una función para detectar (en base a los valores que SI se conocen de géneros para el resto del dataset) cuando un registro tenga en la feature de \"tags\" valores asociados al género del juego. Una vez detectados estos valores, completaré los valores nulos de la feature de \"genres\" con los valores de generos que coincidan con sus tags:"
   ]
  },
  {
   "cell_type": "code",
   "execution_count": 318,
   "id": "pharmaceutical-uncle",
   "metadata": {},
   "outputs": [
    {
     "data": {
      "text/plain": [
       "{'Accounting',\n",
       " 'Action',\n",
       " 'Adventure',\n",
       " 'Animation &amp; Modeling',\n",
       " 'Audio Production',\n",
       " 'Casual',\n",
       " 'Design &amp; Illustration',\n",
       " 'Early Access',\n",
       " 'Education',\n",
       " 'Free to Play',\n",
       " 'Indie',\n",
       " 'Massively Multiplayer',\n",
       " 'Photo Editing',\n",
       " 'RPG',\n",
       " 'Racing',\n",
       " 'Simulation',\n",
       " 'Software Training',\n",
       " 'Sports',\n",
       " 'Strategy',\n",
       " 'Utilities',\n",
       " 'Video Production',\n",
       " 'Web Publishing'}"
      ]
     },
     "execution_count": 318,
     "metadata": {},
     "output_type": "execute_result"
    }
   ],
   "source": [
    "generos=set(genres) # Todos los géneros de juegos que se encuentran en el dataset\n",
    "generos"
   ]
  },
  {
   "cell_type": "code",
   "execution_count": 319,
   "id": "threaded-mobile",
   "metadata": {
    "code_folding": []
   },
   "outputs": [],
   "source": [
    "#Función que devuelve de los tags de un registro cuales pertenecen a su vez a géneros de juegos\n",
    "def match_genre_tag(tags):\n",
    "    tags_gen = []\n",
    "    generos=set(genres)\n",
    "    if type(tags) == float:\n",
    "        return np.nan\n",
    "    for i in tags:\n",
    "        if (i in generos):\n",
    "            tags_gen.append(i)\n",
    "    if len(tags_gen) == 0:\n",
    "        return np.nan\n",
    "    return tags_gen"
   ]
  },
  {
   "cell_type": "code",
   "execution_count": 320,
   "id": "interim-married",
   "metadata": {
    "code_folding": [],
    "collapsed": true
   },
   "outputs": [
    {
     "name": "stderr",
     "output_type": "stream",
     "text": [
      "C:\\Users\\Juan\\miniconda3\\envs\\datascience\\lib\\site-packages\\pandas\\core\\indexing.py:1637: SettingWithCopyWarning: \n",
      "A value is trying to be set on a copy of a slice from a DataFrame\n",
      "\n",
      "See the caveats in the documentation: https://pandas.pydata.org/pandas-docs/stable/user_guide/indexing.html#returning-a-view-versus-a-copy\n",
      "  self._setitem_single_block(indexer, value, name)\n"
     ]
    }
   ],
   "source": [
    "#Recorro todos los registros del dataframe, solo en los que no haya valores trato de completar con valores de géneros incluidos en los tags\n",
    "i=0\n",
    "while(i<games.shape[0]):\n",
    "    if(type(games.genres.iloc[i])!=list):\n",
    "        games.genres.iloc[i]=match_genre_tag(games.tags.iloc[i])\n",
    "    i+=1"
   ]
  },
  {
   "cell_type": "code",
   "execution_count": 321,
   "id": "facial-melissa",
   "metadata": {},
   "outputs": [
    {
     "data": {
      "text/html": [
       "<div>\n",
       "<style scoped>\n",
       "    .dataframe tbody tr th:only-of-type {\n",
       "        vertical-align: middle;\n",
       "    }\n",
       "\n",
       "    .dataframe tbody tr th {\n",
       "        vertical-align: top;\n",
       "    }\n",
       "\n",
       "    .dataframe thead th {\n",
       "        text-align: right;\n",
       "    }\n",
       "</style>\n",
       "<table border=\"1\" class=\"dataframe\">\n",
       "  <thead>\n",
       "    <tr style=\"text-align: right;\">\n",
       "      <th></th>\n",
       "      <th>genres</th>\n",
       "      <th>app_name</th>\n",
       "      <th>tags</th>\n",
       "      <th>specs</th>\n",
       "      <th>price</th>\n",
       "      <th>early_access</th>\n",
       "      <th>id</th>\n",
       "      <th>sentiment</th>\n",
       "    </tr>\n",
       "  </thead>\n",
       "  <tbody>\n",
       "    <tr>\n",
       "      <th>25</th>\n",
       "      <td>NaN</td>\n",
       "      <td>Robotpencil Presents: Understanding 3D for Con...</td>\n",
       "      <td>[Design &amp; Illustration, Tutorial]</td>\n",
       "      <td>NaN</td>\n",
       "      <td>4.990000</td>\n",
       "      <td>0</td>\n",
       "      <td>777910.0</td>\n",
       "      <td>1 user reviews</td>\n",
       "    </tr>\n",
       "    <tr>\n",
       "      <th>337</th>\n",
       "      <td>NaN</td>\n",
       "      <td>Nancy Drew® Dossier: Resorting to Danger!</td>\n",
       "      <td>[Hidden Object, Female Protagonist, Puzzle]</td>\n",
       "      <td>[Single-player]</td>\n",
       "      <td>6.990000</td>\n",
       "      <td>0</td>\n",
       "      <td>42200.0</td>\n",
       "      <td>Mostly Positive</td>\n",
       "    </tr>\n",
       "    <tr>\n",
       "      <th>356</th>\n",
       "      <td>NaN</td>\n",
       "      <td>Europa Universalis III: Heir to the Throne</td>\n",
       "      <td>NaN</td>\n",
       "      <td>[Single-player, Multi-player, Downloadable Con...</td>\n",
       "      <td>9.990000</td>\n",
       "      <td>0</td>\n",
       "      <td>25806.0</td>\n",
       "      <td>Positive</td>\n",
       "    </tr>\n",
       "    <tr>\n",
       "      <th>429</th>\n",
       "      <td>NaN</td>\n",
       "      <td>Sonic 3D Blast™</td>\n",
       "      <td>[Platformer, Singleplayer, Great Soundtrack, I...</td>\n",
       "      <td>[Single-player, Partial Controller Support]</td>\n",
       "      <td>4.990000</td>\n",
       "      <td>0</td>\n",
       "      <td>34278.0</td>\n",
       "      <td>6 user reviews</td>\n",
       "    </tr>\n",
       "    <tr>\n",
       "      <th>466</th>\n",
       "      <td>NaN</td>\n",
       "      <td>Booster Trooper Demo</td>\n",
       "      <td>NaN</td>\n",
       "      <td>[Game demo]</td>\n",
       "      <td>8.867163</td>\n",
       "      <td>0</td>\n",
       "      <td>27930.0</td>\n",
       "      <td>5 user reviews</td>\n",
       "    </tr>\n",
       "    <tr>\n",
       "      <th>...</th>\n",
       "      <td>...</td>\n",
       "      <td>...</td>\n",
       "      <td>...</td>\n",
       "      <td>...</td>\n",
       "      <td>...</td>\n",
       "      <td>...</td>\n",
       "      <td>...</td>\n",
       "      <td>...</td>\n",
       "    </tr>\n",
       "    <tr>\n",
       "      <th>31055</th>\n",
       "      <td>NaN</td>\n",
       "      <td>Robotpencil Presents: Start with Color</td>\n",
       "      <td>[Design &amp; Illustration, Tutorial]</td>\n",
       "      <td>NaN</td>\n",
       "      <td>3.990000</td>\n",
       "      <td>0</td>\n",
       "      <td>775660.0</td>\n",
       "      <td>4 user reviews</td>\n",
       "    </tr>\n",
       "    <tr>\n",
       "      <th>31186</th>\n",
       "      <td>NaN</td>\n",
       "      <td>Robotpencil Presents: Exercise: Brushwork</td>\n",
       "      <td>[Design &amp; Illustration, Tutorial]</td>\n",
       "      <td>NaN</td>\n",
       "      <td>3.990000</td>\n",
       "      <td>0</td>\n",
       "      <td>775640.0</td>\n",
       "      <td>5 user reviews</td>\n",
       "    </tr>\n",
       "    <tr>\n",
       "      <th>31187</th>\n",
       "      <td>NaN</td>\n",
       "      <td>Robotpencil Presents: Creative Composition</td>\n",
       "      <td>[Design &amp; Illustration, Tutorial]</td>\n",
       "      <td>NaN</td>\n",
       "      <td>3.990000</td>\n",
       "      <td>0</td>\n",
       "      <td>777930.0</td>\n",
       "      <td>3 user reviews</td>\n",
       "    </tr>\n",
       "    <tr>\n",
       "      <th>31188</th>\n",
       "      <td>NaN</td>\n",
       "      <td>The Gamble House</td>\n",
       "      <td>[Movie]</td>\n",
       "      <td>[Captions available]</td>\n",
       "      <td>4.990000</td>\n",
       "      <td>0</td>\n",
       "      <td>775370.0</td>\n",
       "      <td>1 user reviews</td>\n",
       "    </tr>\n",
       "    <tr>\n",
       "      <th>31189</th>\n",
       "      <td>NaN</td>\n",
       "      <td>Kalen Chock Presents: 2017 Free Tutorial</td>\n",
       "      <td>[Design &amp; Illustration, Tutorial]</td>\n",
       "      <td>NaN</td>\n",
       "      <td>0.000000</td>\n",
       "      <td>0</td>\n",
       "      <td>777950.0</td>\n",
       "      <td>Mixed</td>\n",
       "    </tr>\n",
       "  </tbody>\n",
       "</table>\n",
       "<p>1017 rows × 8 columns</p>\n",
       "</div>"
      ],
      "text/plain": [
       "      genres                                           app_name  \\\n",
       "25       NaN  Robotpencil Presents: Understanding 3D for Con...   \n",
       "337      NaN          Nancy Drew® Dossier: Resorting to Danger!   \n",
       "356      NaN         Europa Universalis III: Heir to the Throne   \n",
       "429      NaN                                    Sonic 3D Blast™   \n",
       "466      NaN                               Booster Trooper Demo   \n",
       "...      ...                                                ...   \n",
       "31055    NaN             Robotpencil Presents: Start with Color   \n",
       "31186    NaN          Robotpencil Presents: Exercise: Brushwork   \n",
       "31187    NaN         Robotpencil Presents: Creative Composition   \n",
       "31188    NaN                                   The Gamble House   \n",
       "31189    NaN           Kalen Chock Presents: 2017 Free Tutorial   \n",
       "\n",
       "                                                    tags  \\\n",
       "25                     [Design & Illustration, Tutorial]   \n",
       "337          [Hidden Object, Female Protagonist, Puzzle]   \n",
       "356                                                  NaN   \n",
       "429    [Platformer, Singleplayer, Great Soundtrack, I...   \n",
       "466                                                  NaN   \n",
       "...                                                  ...   \n",
       "31055                  [Design & Illustration, Tutorial]   \n",
       "31186                  [Design & Illustration, Tutorial]   \n",
       "31187                  [Design & Illustration, Tutorial]   \n",
       "31188                                            [Movie]   \n",
       "31189                  [Design & Illustration, Tutorial]   \n",
       "\n",
       "                                                   specs     price  \\\n",
       "25                                                   NaN  4.990000   \n",
       "337                                      [Single-player]  6.990000   \n",
       "356    [Single-player, Multi-player, Downloadable Con...  9.990000   \n",
       "429          [Single-player, Partial Controller Support]  4.990000   \n",
       "466                                          [Game demo]  8.867163   \n",
       "...                                                  ...       ...   \n",
       "31055                                                NaN  3.990000   \n",
       "31186                                                NaN  3.990000   \n",
       "31187                                                NaN  3.990000   \n",
       "31188                               [Captions available]  4.990000   \n",
       "31189                                                NaN  0.000000   \n",
       "\n",
       "       early_access        id        sentiment  \n",
       "25                0  777910.0   1 user reviews  \n",
       "337               0   42200.0  Mostly Positive  \n",
       "356               0   25806.0         Positive  \n",
       "429               0   34278.0   6 user reviews  \n",
       "466               0   27930.0   5 user reviews  \n",
       "...             ...       ...              ...  \n",
       "31055             0  775660.0   4 user reviews  \n",
       "31186             0  775640.0   5 user reviews  \n",
       "31187             0  777930.0   3 user reviews  \n",
       "31188             0  775370.0   1 user reviews  \n",
       "31189             0  777950.0            Mixed  \n",
       "\n",
       "[1017 rows x 8 columns]"
      ]
     },
     "execution_count": 321,
     "metadata": {},
     "output_type": "execute_result"
    }
   ],
   "source": [
    "games[games.genres.isna()==True]"
   ]
  },
  {
   "cell_type": "markdown",
   "id": "unlikely-listening",
   "metadata": {},
   "source": [
    "Logré reducir el número de 3233 registros con valores nulos en la columna \"genre\" a solo 1017 (completé un 7% aproximadamente). Ahora si procederé a eliminar aquellos valores nulos que no han podido ser tratados con el procedimiento anterior:"
   ]
  },
  {
   "cell_type": "code",
   "execution_count": 322,
   "id": "breathing-savage",
   "metadata": {},
   "outputs": [],
   "source": [
    "games = games.dropna(subset=['genres'])"
   ]
  },
  {
   "cell_type": "code",
   "execution_count": 323,
   "id": "respective-trance",
   "metadata": {},
   "outputs": [
    {
     "data": {
      "text/plain": [
       "Counter({'Single-player': 26977,\n",
       "         'Multi-player': 7754,\n",
       "         'Online Multi-Player': 2214,\n",
       "         'Cross-Platform Multiplayer': 2452,\n",
       "         'Steam Achievements': 15947,\n",
       "         'Steam Trading Cards': 11866,\n",
       "         'In-App Purchases': 824,\n",
       "         'Stats': 2288,\n",
       "         'Full controller support': 7176,\n",
       "         'HTC Vive': 1950,\n",
       "         'Oculus Rift': 1183,\n",
       "         'Tracked Motion Controllers': 1790,\n",
       "         'Room-Scale': 1426,\n",
       "         'Downloadable Content': 12262,\n",
       "         'Steam Cloud': 9712,\n",
       "         'Steam Leaderboards': 5961,\n",
       "         'Partial Controller Support': 6339,\n",
       "         'Seated': 1063,\n",
       "         'Standing': 1441,\n",
       "         'Local Co-op': 721,\n",
       "         'Shared/Split Screen': 3896,\n",
       "         'Valve Anti-Cheat enabled': 439,\n",
       "         'Local Multi-Player': 1196,\n",
       "         'Steam Turn Notifications': 85,\n",
       "         'MMO': 769,\n",
       "         'Co-op': 4068,\n",
       "         'Online Co-op': 918,\n",
       "         'Captions available': 1603,\n",
       "         'Commentary available': 194,\n",
       "         'Steam Workshop': 1771,\n",
       "         'Includes level editor': 1324,\n",
       "         'Mods': 11,\n",
       "         'Mods (require HL2)': 10,\n",
       "         'Game demo': 362,\n",
       "         'Includes Source SDK': 59,\n",
       "         'SteamVR Collectibles': 26,\n",
       "         'Keyboard / Mouse': 403,\n",
       "         'Gamepad': 372,\n",
       "         'Windows Mixed Reality': 155,\n",
       "         'Mods (require HL1)': 1})"
      ]
     },
     "execution_count": 323,
     "metadata": {},
     "output_type": "execute_result"
    }
   ],
   "source": [
    "import collections\n",
    "collections.Counter(specs)"
   ]
  },
  {
   "cell_type": "markdown",
   "id": "quantitative-editing",
   "metadata": {},
   "source": [
    "Para el caso de la columna \"specs\" podemos observar que casi un 90% de los registros poseen el valor \"Single-player\" por ende completaré los valores nulos con este valor en particular:"
   ]
  },
  {
   "cell_type": "code",
   "execution_count": 324,
   "id": "reliable-million",
   "metadata": {},
   "outputs": [],
   "source": [
    "games['specs'] = games['specs'].apply(lambda x: x if isinstance(x, list) else ['Single-player'])"
   ]
  },
  {
   "cell_type": "code",
   "execution_count": 325,
   "id": "compact-bobby",
   "metadata": {
    "scrolled": true
   },
   "outputs": [
    {
     "data": {
      "text/html": [
       "<div>\n",
       "<style scoped>\n",
       "    .dataframe tbody tr th:only-of-type {\n",
       "        vertical-align: middle;\n",
       "    }\n",
       "\n",
       "    .dataframe tbody tr th {\n",
       "        vertical-align: top;\n",
       "    }\n",
       "\n",
       "    .dataframe thead th {\n",
       "        text-align: right;\n",
       "    }\n",
       "</style>\n",
       "<table border=\"1\" class=\"dataframe\">\n",
       "  <thead>\n",
       "    <tr style=\"text-align: right;\">\n",
       "      <th></th>\n",
       "      <th>genres</th>\n",
       "      <th>app_name</th>\n",
       "      <th>tags</th>\n",
       "      <th>specs</th>\n",
       "      <th>price</th>\n",
       "      <th>early_access</th>\n",
       "      <th>id</th>\n",
       "      <th>sentiment</th>\n",
       "    </tr>\n",
       "  </thead>\n",
       "  <tbody>\n",
       "    <tr>\n",
       "      <th>277</th>\n",
       "      <td>[Adventure]</td>\n",
       "      <td>Nancy Drew®: Ransom of the Seven Ships Demo</td>\n",
       "      <td>NaN</td>\n",
       "      <td>[Single-player, Game demo]</td>\n",
       "      <td>8.867163</td>\n",
       "      <td>0</td>\n",
       "      <td>31990.0</td>\n",
       "      <td>3 user reviews</td>\n",
       "    </tr>\n",
       "    <tr>\n",
       "      <th>296</th>\n",
       "      <td>[Action, Adventure]</td>\n",
       "      <td>Mini Ninjas Demo</td>\n",
       "      <td>NaN</td>\n",
       "      <td>[Single-player, Game demo]</td>\n",
       "      <td>8.867163</td>\n",
       "      <td>0</td>\n",
       "      <td>35050.0</td>\n",
       "      <td>Positive</td>\n",
       "    </tr>\n",
       "    <tr>\n",
       "      <th>307</th>\n",
       "      <td>[Casual]</td>\n",
       "      <td>Freeze Tag Fun Pack #2</td>\n",
       "      <td>NaN</td>\n",
       "      <td>[Single-player]</td>\n",
       "      <td>19.990000</td>\n",
       "      <td>0</td>\n",
       "      <td>39392.0</td>\n",
       "      <td>4 user reviews</td>\n",
       "    </tr>\n",
       "    <tr>\n",
       "      <th>308</th>\n",
       "      <td>[Casual]</td>\n",
       "      <td>Freeze Tag Fun Pack #1</td>\n",
       "      <td>NaN</td>\n",
       "      <td>[Single-player]</td>\n",
       "      <td>19.990000</td>\n",
       "      <td>0</td>\n",
       "      <td>39391.0</td>\n",
       "      <td>Very Positive</td>\n",
       "    </tr>\n",
       "    <tr>\n",
       "      <th>407</th>\n",
       "      <td>[Casual]</td>\n",
       "      <td>Mahjong Roadshow™</td>\n",
       "      <td>NaN</td>\n",
       "      <td>[Single-player]</td>\n",
       "      <td>6.990000</td>\n",
       "      <td>0</td>\n",
       "      <td>37360.0</td>\n",
       "      <td>5 user reviews</td>\n",
       "    </tr>\n",
       "    <tr>\n",
       "      <th>2046</th>\n",
       "      <td>[Action, Casual, Indie]</td>\n",
       "      <td>Vitrum Demo</td>\n",
       "      <td>NaN</td>\n",
       "      <td>[Single-player, Game demo, Includes level editor]</td>\n",
       "      <td>8.867163</td>\n",
       "      <td>0</td>\n",
       "      <td>294350.0</td>\n",
       "      <td>2 user reviews</td>\n",
       "    </tr>\n",
       "    <tr>\n",
       "      <th>2074</th>\n",
       "      <td>[Action]</td>\n",
       "      <td>Rogue Shooter: The FPS Roguelike Demo</td>\n",
       "      <td>NaN</td>\n",
       "      <td>[Single-player, Game demo]</td>\n",
       "      <td>8.867163</td>\n",
       "      <td>0</td>\n",
       "      <td>298010.0</td>\n",
       "      <td>Mixed</td>\n",
       "    </tr>\n",
       "    <tr>\n",
       "      <th>3025</th>\n",
       "      <td>[Action, Adventure, Casual, Indie, RPG]</td>\n",
       "      <td>Forward to the Sky Demo</td>\n",
       "      <td>NaN</td>\n",
       "      <td>[Single-player, Game demo, Partial Controller ...</td>\n",
       "      <td>8.867163</td>\n",
       "      <td>0</td>\n",
       "      <td>348010.0</td>\n",
       "      <td>Mixed</td>\n",
       "    </tr>\n",
       "    <tr>\n",
       "      <th>9796</th>\n",
       "      <td>[Casual, Indie, Simulation, Strategy]</td>\n",
       "      <td>War Chariots: Royal Legion</td>\n",
       "      <td>NaN</td>\n",
       "      <td>[Single-player]</td>\n",
       "      <td>5.990000</td>\n",
       "      <td>0</td>\n",
       "      <td>654060.0</td>\n",
       "      <td>4 user reviews</td>\n",
       "    </tr>\n",
       "    <tr>\n",
       "      <th>16655</th>\n",
       "      <td>[Accounting]</td>\n",
       "      <td>Professor Teaches QuickBooks 2017</td>\n",
       "      <td>NaN</td>\n",
       "      <td>[Single-player]</td>\n",
       "      <td>14.990000</td>\n",
       "      <td>0</td>\n",
       "      <td>623590.0</td>\n",
       "      <td>4 user reviews</td>\n",
       "    </tr>\n",
       "    <tr>\n",
       "      <th>18550</th>\n",
       "      <td>[Indie, Strategy]</td>\n",
       "      <td>Semispheres Soundtrack</td>\n",
       "      <td>NaN</td>\n",
       "      <td>[Single-player, Downloadable Content]</td>\n",
       "      <td>5.990000</td>\n",
       "      <td>0</td>\n",
       "      <td>590350.0</td>\n",
       "      <td>Mixed</td>\n",
       "    </tr>\n",
       "    <tr>\n",
       "      <th>21536</th>\n",
       "      <td>[Casual, Indie, Strategy]</td>\n",
       "      <td>Pristine world - Original Soundtrack</td>\n",
       "      <td>NaN</td>\n",
       "      <td>[Single-player, Downloadable Content, Steam Ac...</td>\n",
       "      <td>3.990000</td>\n",
       "      <td>0</td>\n",
       "      <td>492790.0</td>\n",
       "      <td>Positive</td>\n",
       "    </tr>\n",
       "    <tr>\n",
       "      <th>22795</th>\n",
       "      <td>[Adventure, Indie]</td>\n",
       "      <td>Hatoful Boyfriend: Holiday Star Collector's Ed...</td>\n",
       "      <td>NaN</td>\n",
       "      <td>[Single-player, Downloadable Content]</td>\n",
       "      <td>6.990000</td>\n",
       "      <td>0</td>\n",
       "      <td>463090.0</td>\n",
       "      <td>Positive</td>\n",
       "    </tr>\n",
       "    <tr>\n",
       "      <th>25187</th>\n",
       "      <td>[Casual, Simulation, Sports, Strategy]</td>\n",
       "      <td>Baseball Mogul 2015 Demo</td>\n",
       "      <td>NaN</td>\n",
       "      <td>[Single-player, Game demo]</td>\n",
       "      <td>8.867163</td>\n",
       "      <td>0</td>\n",
       "      <td>388350.0</td>\n",
       "      <td>Mixed</td>\n",
       "    </tr>\n",
       "    <tr>\n",
       "      <th>25946</th>\n",
       "      <td>[Action, Indie]</td>\n",
       "      <td>Quintet - Upgrade (unlock scenarios and websit...</td>\n",
       "      <td>NaN</td>\n",
       "      <td>[Single-player, Multi-player, Co-op, Shared/Sp...</td>\n",
       "      <td>4.990000</td>\n",
       "      <td>0</td>\n",
       "      <td>368400.0</td>\n",
       "      <td>1 user reviews</td>\n",
       "    </tr>\n",
       "    <tr>\n",
       "      <th>27142</th>\n",
       "      <td>[Action, Adventure, Indie]</td>\n",
       "      <td>Onikira - Bonus Contents</td>\n",
       "      <td>NaN</td>\n",
       "      <td>[Single-player, Downloadable Content, Steam Ac...</td>\n",
       "      <td>8.867163</td>\n",
       "      <td>0</td>\n",
       "      <td>330511.0</td>\n",
       "      <td>5 user reviews</td>\n",
       "    </tr>\n",
       "    <tr>\n",
       "      <th>28112</th>\n",
       "      <td>[Adventure, Casual, Indie]</td>\n",
       "      <td>Qbeh-1: The Atlas Cube Demo</td>\n",
       "      <td>NaN</td>\n",
       "      <td>[Single-player, Game demo, Partial Controller ...</td>\n",
       "      <td>8.867163</td>\n",
       "      <td>0</td>\n",
       "      <td>304570.0</td>\n",
       "      <td>Positive</td>\n",
       "    </tr>\n",
       "    <tr>\n",
       "      <th>29839</th>\n",
       "      <td>[Simulation]</td>\n",
       "      <td>RailWorks Class 57 Add-on</td>\n",
       "      <td>NaN</td>\n",
       "      <td>[Single-player, Downloadable Content]</td>\n",
       "      <td>8.867163</td>\n",
       "      <td>0</td>\n",
       "      <td>24077.0</td>\n",
       "      <td>1 user reviews</td>\n",
       "    </tr>\n",
       "    <tr>\n",
       "      <th>30288</th>\n",
       "      <td>[Simulation]</td>\n",
       "      <td>P42DC Genesis Add-On</td>\n",
       "      <td>NaN</td>\n",
       "      <td>[Single-player, Downloadable Content]</td>\n",
       "      <td>8.867163</td>\n",
       "      <td>0</td>\n",
       "      <td>65230.0</td>\n",
       "      <td>Positive</td>\n",
       "    </tr>\n",
       "    <tr>\n",
       "      <th>30696</th>\n",
       "      <td>[Casual]</td>\n",
       "      <td>Zenerchi®</td>\n",
       "      <td>NaN</td>\n",
       "      <td>[Single-player]</td>\n",
       "      <td>9.990000</td>\n",
       "      <td>0</td>\n",
       "      <td>37290.0</td>\n",
       "      <td>5 user reviews</td>\n",
       "    </tr>\n",
       "    <tr>\n",
       "      <th>30698</th>\n",
       "      <td>[Simulation]</td>\n",
       "      <td>Wedding Dash® 2: Rings Around the World</td>\n",
       "      <td>NaN</td>\n",
       "      <td>[Single-player]</td>\n",
       "      <td>9.990000</td>\n",
       "      <td>0</td>\n",
       "      <td>37280.0</td>\n",
       "      <td>Positive</td>\n",
       "    </tr>\n",
       "    <tr>\n",
       "      <th>30723</th>\n",
       "      <td>[Indie]</td>\n",
       "      <td>Bad Rats: the Rats' Revenge Demo</td>\n",
       "      <td>NaN</td>\n",
       "      <td>[Single-player, Game demo]</td>\n",
       "      <td>8.867163</td>\n",
       "      <td>0</td>\n",
       "      <td>34910.0</td>\n",
       "      <td>Mixed</td>\n",
       "    </tr>\n",
       "    <tr>\n",
       "      <th>30877</th>\n",
       "      <td>[Casual]</td>\n",
       "      <td>LUMINES™ Advance Pack</td>\n",
       "      <td>NaN</td>\n",
       "      <td>[Single-player]</td>\n",
       "      <td>7.990000</td>\n",
       "      <td>0</td>\n",
       "      <td>11920.0</td>\n",
       "      <td>9 user reviews</td>\n",
       "    </tr>\n",
       "  </tbody>\n",
       "</table>\n",
       "</div>"
      ],
      "text/plain": [
       "                                        genres  \\\n",
       "277                                [Adventure]   \n",
       "296                        [Action, Adventure]   \n",
       "307                                   [Casual]   \n",
       "308                                   [Casual]   \n",
       "407                                   [Casual]   \n",
       "2046                   [Action, Casual, Indie]   \n",
       "2074                                  [Action]   \n",
       "3025   [Action, Adventure, Casual, Indie, RPG]   \n",
       "9796     [Casual, Indie, Simulation, Strategy]   \n",
       "16655                             [Accounting]   \n",
       "18550                        [Indie, Strategy]   \n",
       "21536                [Casual, Indie, Strategy]   \n",
       "22795                       [Adventure, Indie]   \n",
       "25187   [Casual, Simulation, Sports, Strategy]   \n",
       "25946                          [Action, Indie]   \n",
       "27142               [Action, Adventure, Indie]   \n",
       "28112               [Adventure, Casual, Indie]   \n",
       "29839                             [Simulation]   \n",
       "30288                             [Simulation]   \n",
       "30696                                 [Casual]   \n",
       "30698                             [Simulation]   \n",
       "30723                                  [Indie]   \n",
       "30877                                 [Casual]   \n",
       "\n",
       "                                                app_name tags  \\\n",
       "277          Nancy Drew®: Ransom of the Seven Ships Demo  NaN   \n",
       "296                                     Mini Ninjas Demo  NaN   \n",
       "307                               Freeze Tag Fun Pack #2  NaN   \n",
       "308                               Freeze Tag Fun Pack #1  NaN   \n",
       "407                                    Mahjong Roadshow™  NaN   \n",
       "2046                                         Vitrum Demo  NaN   \n",
       "2074               Rogue Shooter: The FPS Roguelike Demo  NaN   \n",
       "3025                             Forward to the Sky Demo  NaN   \n",
       "9796                          War Chariots: Royal Legion  NaN   \n",
       "16655                  Professor Teaches QuickBooks 2017  NaN   \n",
       "18550                             Semispheres Soundtrack  NaN   \n",
       "21536               Pristine world - Original Soundtrack  NaN   \n",
       "22795  Hatoful Boyfriend: Holiday Star Collector's Ed...  NaN   \n",
       "25187                           Baseball Mogul 2015 Demo  NaN   \n",
       "25946  Quintet - Upgrade (unlock scenarios and websit...  NaN   \n",
       "27142                           Onikira - Bonus Contents  NaN   \n",
       "28112                        Qbeh-1: The Atlas Cube Demo  NaN   \n",
       "29839                          RailWorks Class 57 Add-on  NaN   \n",
       "30288                               P42DC Genesis Add-On  NaN   \n",
       "30696                                          Zenerchi®  NaN   \n",
       "30698            Wedding Dash® 2: Rings Around the World  NaN   \n",
       "30723                   Bad Rats: the Rats' Revenge Demo  NaN   \n",
       "30877                              LUMINES™ Advance Pack  NaN   \n",
       "\n",
       "                                                   specs      price  \\\n",
       "277                           [Single-player, Game demo]   8.867163   \n",
       "296                           [Single-player, Game demo]   8.867163   \n",
       "307                                      [Single-player]  19.990000   \n",
       "308                                      [Single-player]  19.990000   \n",
       "407                                      [Single-player]   6.990000   \n",
       "2046   [Single-player, Game demo, Includes level editor]   8.867163   \n",
       "2074                          [Single-player, Game demo]   8.867163   \n",
       "3025   [Single-player, Game demo, Partial Controller ...   8.867163   \n",
       "9796                                     [Single-player]   5.990000   \n",
       "16655                                    [Single-player]  14.990000   \n",
       "18550              [Single-player, Downloadable Content]   5.990000   \n",
       "21536  [Single-player, Downloadable Content, Steam Ac...   3.990000   \n",
       "22795              [Single-player, Downloadable Content]   6.990000   \n",
       "25187                         [Single-player, Game demo]   8.867163   \n",
       "25946  [Single-player, Multi-player, Co-op, Shared/Sp...   4.990000   \n",
       "27142  [Single-player, Downloadable Content, Steam Ac...   8.867163   \n",
       "28112  [Single-player, Game demo, Partial Controller ...   8.867163   \n",
       "29839              [Single-player, Downloadable Content]   8.867163   \n",
       "30288              [Single-player, Downloadable Content]   8.867163   \n",
       "30696                                    [Single-player]   9.990000   \n",
       "30698                                    [Single-player]   9.990000   \n",
       "30723                         [Single-player, Game demo]   8.867163   \n",
       "30877                                    [Single-player]   7.990000   \n",
       "\n",
       "       early_access        id       sentiment  \n",
       "277               0   31990.0  3 user reviews  \n",
       "296               0   35050.0        Positive  \n",
       "307               0   39392.0  4 user reviews  \n",
       "308               0   39391.0   Very Positive  \n",
       "407               0   37360.0  5 user reviews  \n",
       "2046              0  294350.0  2 user reviews  \n",
       "2074              0  298010.0           Mixed  \n",
       "3025              0  348010.0           Mixed  \n",
       "9796              0  654060.0  4 user reviews  \n",
       "16655             0  623590.0  4 user reviews  \n",
       "18550             0  590350.0           Mixed  \n",
       "21536             0  492790.0        Positive  \n",
       "22795             0  463090.0        Positive  \n",
       "25187             0  388350.0           Mixed  \n",
       "25946             0  368400.0  1 user reviews  \n",
       "27142             0  330511.0  5 user reviews  \n",
       "28112             0  304570.0        Positive  \n",
       "29839             0   24077.0  1 user reviews  \n",
       "30288             0   65230.0        Positive  \n",
       "30696             0   37290.0  5 user reviews  \n",
       "30698             0   37280.0        Positive  \n",
       "30723             0   34910.0           Mixed  \n",
       "30877             0   11920.0  9 user reviews  "
      ]
     },
     "execution_count": 325,
     "metadata": {},
     "output_type": "execute_result"
    }
   ],
   "source": [
    "games[games.tags.isna()==True]"
   ]
  },
  {
   "cell_type": "markdown",
   "id": "international-controversy",
   "metadata": {},
   "source": [
    "Para el caso de la columna \"tags\" observamos que hay solo 23 registros que no poseen valores asociados a esta feature, por tanto podemos eliminarlos ya que no es un valor representativo para el volumen del dataset:"
   ]
  },
  {
   "cell_type": "code",
   "execution_count": 326,
   "id": "saving-tyler",
   "metadata": {},
   "outputs": [],
   "source": [
    "games = games.dropna(subset=['tags'])"
   ]
  },
  {
   "cell_type": "code",
   "execution_count": 327,
   "id": "false-uniform",
   "metadata": {},
   "outputs": [
    {
     "data": {
      "text/plain": [
       "genres          0\n",
       "app_name        0\n",
       "tags            0\n",
       "specs           0\n",
       "price           0\n",
       "early_access    0\n",
       "id              0\n",
       "sentiment       0\n",
       "dtype: int64"
      ]
     },
     "execution_count": 327,
     "metadata": {},
     "output_type": "execute_result"
    }
   ],
   "source": [
    "games.isna().sum()"
   ]
  },
  {
   "cell_type": "markdown",
   "id": "bizarre-welsh",
   "metadata": {},
   "source": [
    "### Modelo de Machine Learning"
   ]
  },
  {
   "cell_type": "code",
   "execution_count": 328,
   "id": "aboriginal-punishment",
   "metadata": {},
   "outputs": [],
   "source": [
    "#Importo las librerías necesarias para la implementación del filtro basado en contenido\n",
    "from sklearn.metrics.pairwise import cosine_similarity\n",
    "from sklearn.metrics import mean_squared_error\n",
    "from sklearn.model_selection import train_test_split\n",
    "from sklearn.feature_extraction.text import TfidfVectorizer\n",
    "from sklearn.metrics.pairwise import linear_kernel\n",
    "from sklearn.feature_extraction.text import CountVectorizer"
   ]
  },
  {
   "cell_type": "markdown",
   "id": "green-contributor",
   "metadata": {},
   "source": [
    "El primer paso para poder implementar un filtro basado en contenido se basa en armar la metadata, es decir agrupar los datos para posteriormente tratarlos de forma unívoca y vectorizarlos. Para favorecer el análisis y la recomendación que realizará el filtro, definiré un límite en la cantidad de valores para sus features de tipo lista (genres, tags, specs) para de esta forma facilitar la comparación y la similitud con la que trabajará el filtro. A su vez también quitaré los espacios en los valores de tipo texto ya que dos cadenas de texto que empiecen de la misma forma pueden confundir al sistema de recomendación (de esta forma considera todo como una sola palabra)."
   ]
  },
  {
   "cell_type": "code",
   "execution_count": 329,
   "id": "contrary-interstate",
   "metadata": {},
   "outputs": [],
   "source": [
    "#Limite cantidad valores de listas\n",
    "games['genres'] = games['genres'].apply(lambda x: x[:3] if len(x)>3 else x)\n",
    "games['tags'] = games['tags'].apply(lambda x: x[:3] if len(x)>3 else x)\n",
    "games['specs'] = games['specs'].apply(lambda x: x[:3] if len(x)>3 else x)"
   ]
  },
  {
   "cell_type": "code",
   "execution_count": 330,
   "id": "anticipated-street",
   "metadata": {},
   "outputs": [],
   "source": [
    "#Espacios eliminados\n",
    "games['genres'] = games['genres'].apply(lambda x: [i.replace(' ','') for i in x])\n",
    "games['tags'] = games['tags'].apply(lambda x: [i.replace(' ','') for i in x])\n",
    "games['specs'] = games['specs'].apply(lambda x: [i.replace(' ','') for i in x])\n",
    "games['sentiment'] = games['sentiment'].apply(lambda x: [x.replace(' ','')])"
   ]
  },
  {
   "cell_type": "code",
   "execution_count": 331,
   "id": "extraordinary-evaluation",
   "metadata": {
    "scrolled": true
   },
   "outputs": [
    {
     "data": {
      "text/html": [
       "<div>\n",
       "<style scoped>\n",
       "    .dataframe tbody tr th:only-of-type {\n",
       "        vertical-align: middle;\n",
       "    }\n",
       "\n",
       "    .dataframe tbody tr th {\n",
       "        vertical-align: top;\n",
       "    }\n",
       "\n",
       "    .dataframe thead th {\n",
       "        text-align: right;\n",
       "    }\n",
       "</style>\n",
       "<table border=\"1\" class=\"dataframe\">\n",
       "  <thead>\n",
       "    <tr style=\"text-align: right;\">\n",
       "      <th></th>\n",
       "      <th>genres</th>\n",
       "      <th>app_name</th>\n",
       "      <th>tags</th>\n",
       "      <th>specs</th>\n",
       "      <th>price</th>\n",
       "      <th>early_access</th>\n",
       "      <th>id</th>\n",
       "      <th>sentiment</th>\n",
       "    </tr>\n",
       "  </thead>\n",
       "  <tbody>\n",
       "    <tr>\n",
       "      <th>0</th>\n",
       "      <td>[Action, Casual, Indie]</td>\n",
       "      <td>Lost Summoner Kitty</td>\n",
       "      <td>[Strategy, Action, Indie]</td>\n",
       "      <td>[Single-player]</td>\n",
       "      <td>4.99</td>\n",
       "      <td>0</td>\n",
       "      <td>761140.0</td>\n",
       "      <td>[Mixed]</td>\n",
       "    </tr>\n",
       "    <tr>\n",
       "      <th>1</th>\n",
       "      <td>[FreetoPlay, Indie, RPG]</td>\n",
       "      <td>Ironbound</td>\n",
       "      <td>[FreetoPlay, Strategy, Indie]</td>\n",
       "      <td>[Single-player, Multi-player, OnlineMulti-Player]</td>\n",
       "      <td>0.00</td>\n",
       "      <td>0</td>\n",
       "      <td>643980.0</td>\n",
       "      <td>[MostlyPositive]</td>\n",
       "    </tr>\n",
       "    <tr>\n",
       "      <th>2</th>\n",
       "      <td>[Casual, FreetoPlay, Indie]</td>\n",
       "      <td>Real Pool 3D - Poolians</td>\n",
       "      <td>[FreetoPlay, Simulation, Sports]</td>\n",
       "      <td>[Single-player, Multi-player, OnlineMulti-Player]</td>\n",
       "      <td>0.00</td>\n",
       "      <td>0</td>\n",
       "      <td>670290.0</td>\n",
       "      <td>[MostlyPositive]</td>\n",
       "    </tr>\n",
       "    <tr>\n",
       "      <th>3</th>\n",
       "      <td>[Action, Adventure, Casual]</td>\n",
       "      <td>弹炸人2222</td>\n",
       "      <td>[Action, Adventure, Casual]</td>\n",
       "      <td>[Single-player]</td>\n",
       "      <td>0.99</td>\n",
       "      <td>0</td>\n",
       "      <td>767400.0</td>\n",
       "      <td>[Mixed]</td>\n",
       "    </tr>\n",
       "    <tr>\n",
       "      <th>4</th>\n",
       "      <td>[Action, Indie, Casual]</td>\n",
       "      <td>Log Challenge</td>\n",
       "      <td>[Action, Indie, Casual]</td>\n",
       "      <td>[Single-player, Fullcontrollersupport, HTCVive]</td>\n",
       "      <td>2.99</td>\n",
       "      <td>0</td>\n",
       "      <td>773570.0</td>\n",
       "      <td>[Positive]</td>\n",
       "    </tr>\n",
       "  </tbody>\n",
       "</table>\n",
       "</div>"
      ],
      "text/plain": [
       "                        genres                 app_name  \\\n",
       "0      [Action, Casual, Indie]      Lost Summoner Kitty   \n",
       "1     [FreetoPlay, Indie, RPG]                Ironbound   \n",
       "2  [Casual, FreetoPlay, Indie]  Real Pool 3D - Poolians   \n",
       "3  [Action, Adventure, Casual]                  弹炸人2222   \n",
       "4      [Action, Indie, Casual]            Log Challenge   \n",
       "\n",
       "                               tags  \\\n",
       "0         [Strategy, Action, Indie]   \n",
       "1     [FreetoPlay, Strategy, Indie]   \n",
       "2  [FreetoPlay, Simulation, Sports]   \n",
       "3       [Action, Adventure, Casual]   \n",
       "4           [Action, Indie, Casual]   \n",
       "\n",
       "                                               specs  price  early_access  \\\n",
       "0                                    [Single-player]   4.99             0   \n",
       "1  [Single-player, Multi-player, OnlineMulti-Player]   0.00             0   \n",
       "2  [Single-player, Multi-player, OnlineMulti-Player]   0.00             0   \n",
       "3                                    [Single-player]   0.99             0   \n",
       "4    [Single-player, Fullcontrollersupport, HTCVive]   2.99             0   \n",
       "\n",
       "         id         sentiment  \n",
       "0  761140.0           [Mixed]  \n",
       "1  643980.0  [MostlyPositive]  \n",
       "2  670290.0  [MostlyPositive]  \n",
       "3  767400.0           [Mixed]  \n",
       "4  773570.0        [Positive]  "
      ]
     },
     "execution_count": 331,
     "metadata": {},
     "output_type": "execute_result"
    }
   ],
   "source": [
    "games.head()"
   ]
  },
  {
   "cell_type": "markdown",
   "id": "satellite-mustang",
   "metadata": {},
   "source": [
    "Todos los datos limpiados y unificados anteriormente deben agruparse en un único feature para que de esta forma el filtro los trabaje y busque similitudes como si fueran un único valor: "
   ]
  },
  {
   "cell_type": "code",
   "execution_count": 332,
   "id": "hybrid-broad",
   "metadata": {
    "scrolled": true
   },
   "outputs": [
    {
     "data": {
      "text/html": [
       "<div>\n",
       "<style scoped>\n",
       "    .dataframe tbody tr th:only-of-type {\n",
       "        vertical-align: middle;\n",
       "    }\n",
       "\n",
       "    .dataframe tbody tr th {\n",
       "        vertical-align: top;\n",
       "    }\n",
       "\n",
       "    .dataframe thead th {\n",
       "        text-align: right;\n",
       "    }\n",
       "</style>\n",
       "<table border=\"1\" class=\"dataframe\">\n",
       "  <thead>\n",
       "    <tr style=\"text-align: right;\">\n",
       "      <th></th>\n",
       "      <th>genres</th>\n",
       "      <th>app_name</th>\n",
       "      <th>tags</th>\n",
       "      <th>specs</th>\n",
       "      <th>price</th>\n",
       "      <th>early_access</th>\n",
       "      <th>id</th>\n",
       "      <th>sentiment</th>\n",
       "      <th>metadata</th>\n",
       "    </tr>\n",
       "  </thead>\n",
       "  <tbody>\n",
       "    <tr>\n",
       "      <th>0</th>\n",
       "      <td>[Action, Casual, Indie]</td>\n",
       "      <td>Lost Summoner Kitty</td>\n",
       "      <td>[Strategy, Action, Indie]</td>\n",
       "      <td>[Single-player]</td>\n",
       "      <td>4.99</td>\n",
       "      <td>0</td>\n",
       "      <td>761140.0</td>\n",
       "      <td>[Mixed]</td>\n",
       "      <td>ActionCasualIndieStrategyActionIndieSingle-pla...</td>\n",
       "    </tr>\n",
       "    <tr>\n",
       "      <th>1</th>\n",
       "      <td>[FreetoPlay, Indie, RPG]</td>\n",
       "      <td>Ironbound</td>\n",
       "      <td>[FreetoPlay, Strategy, Indie]</td>\n",
       "      <td>[Single-player, Multi-player, OnlineMulti-Player]</td>\n",
       "      <td>0.00</td>\n",
       "      <td>0</td>\n",
       "      <td>643980.0</td>\n",
       "      <td>[MostlyPositive]</td>\n",
       "      <td>FreetoPlayIndieRPGFreetoPlayStrategyIndieSingl...</td>\n",
       "    </tr>\n",
       "    <tr>\n",
       "      <th>2</th>\n",
       "      <td>[Casual, FreetoPlay, Indie]</td>\n",
       "      <td>Real Pool 3D - Poolians</td>\n",
       "      <td>[FreetoPlay, Simulation, Sports]</td>\n",
       "      <td>[Single-player, Multi-player, OnlineMulti-Player]</td>\n",
       "      <td>0.00</td>\n",
       "      <td>0</td>\n",
       "      <td>670290.0</td>\n",
       "      <td>[MostlyPositive]</td>\n",
       "      <td>CasualFreetoPlayIndieFreetoPlaySimulationSport...</td>\n",
       "    </tr>\n",
       "    <tr>\n",
       "      <th>3</th>\n",
       "      <td>[Action, Adventure, Casual]</td>\n",
       "      <td>弹炸人2222</td>\n",
       "      <td>[Action, Adventure, Casual]</td>\n",
       "      <td>[Single-player]</td>\n",
       "      <td>0.99</td>\n",
       "      <td>0</td>\n",
       "      <td>767400.0</td>\n",
       "      <td>[Mixed]</td>\n",
       "      <td>ActionAdventureCasualActionAdventureCasualSing...</td>\n",
       "    </tr>\n",
       "    <tr>\n",
       "      <th>4</th>\n",
       "      <td>[Action, Indie, Casual]</td>\n",
       "      <td>Log Challenge</td>\n",
       "      <td>[Action, Indie, Casual]</td>\n",
       "      <td>[Single-player, Fullcontrollersupport, HTCVive]</td>\n",
       "      <td>2.99</td>\n",
       "      <td>0</td>\n",
       "      <td>773570.0</td>\n",
       "      <td>[Positive]</td>\n",
       "      <td>ActionIndieCasualActionIndieCasualSingle-playe...</td>\n",
       "    </tr>\n",
       "  </tbody>\n",
       "</table>\n",
       "</div>"
      ],
      "text/plain": [
       "                        genres                 app_name  \\\n",
       "0      [Action, Casual, Indie]      Lost Summoner Kitty   \n",
       "1     [FreetoPlay, Indie, RPG]                Ironbound   \n",
       "2  [Casual, FreetoPlay, Indie]  Real Pool 3D - Poolians   \n",
       "3  [Action, Adventure, Casual]                  弹炸人2222   \n",
       "4      [Action, Indie, Casual]            Log Challenge   \n",
       "\n",
       "                               tags  \\\n",
       "0         [Strategy, Action, Indie]   \n",
       "1     [FreetoPlay, Strategy, Indie]   \n",
       "2  [FreetoPlay, Simulation, Sports]   \n",
       "3       [Action, Adventure, Casual]   \n",
       "4           [Action, Indie, Casual]   \n",
       "\n",
       "                                               specs  price  early_access  \\\n",
       "0                                    [Single-player]   4.99             0   \n",
       "1  [Single-player, Multi-player, OnlineMulti-Player]   0.00             0   \n",
       "2  [Single-player, Multi-player, OnlineMulti-Player]   0.00             0   \n",
       "3                                    [Single-player]   0.99             0   \n",
       "4    [Single-player, Fullcontrollersupport, HTCVive]   2.99             0   \n",
       "\n",
       "         id         sentiment  \\\n",
       "0  761140.0           [Mixed]   \n",
       "1  643980.0  [MostlyPositive]   \n",
       "2  670290.0  [MostlyPositive]   \n",
       "3  767400.0           [Mixed]   \n",
       "4  773570.0        [Positive]   \n",
       "\n",
       "                                            metadata  \n",
       "0  ActionCasualIndieStrategyActionIndieSingle-pla...  \n",
       "1  FreetoPlayIndieRPGFreetoPlayStrategyIndieSingl...  \n",
       "2  CasualFreetoPlayIndieFreetoPlaySimulationSport...  \n",
       "3  ActionAdventureCasualActionAdventureCasualSing...  \n",
       "4  ActionIndieCasualActionIndieCasualSingle-playe...  "
      ]
     },
     "execution_count": 332,
     "metadata": {},
     "output_type": "execute_result"
    }
   ],
   "source": [
    "games['metadata'] = games.apply(lambda x: ''.join(x['genres']) + ''+''.join(x['tags']) + '' + ''.join(x['specs']) + '' + ''.join(x['sentiment']), axis=1)\n",
    "games.head()"
   ]
  },
  {
   "cell_type": "markdown",
   "id": "unknown-meditation",
   "metadata": {},
   "source": [
    "Posteriormente al armado de la metadata se debe vectorizar esta columna para de esta forma armar una matriz \"gigante\" cuyos valores estarán compuestos por cada uno de los índices de cada juego junto con su metadata. Usaré la métrica \"similitud de coseno\" para evaluar la similitud entre dos juegos. "
   ]
  },
  {
   "cell_type": "code",
   "execution_count": 334,
   "id": "italic-services",
   "metadata": {},
   "outputs": [],
   "source": [
    "games = games.reset_index(drop=True) # Reseteo los índices del dataset previamente a vectorizar\n",
    "count_vec = CountVectorizer()\n",
    "count_vec_matrix = count_vec.fit_transform(games['metadata']) # vectorización\n",
    "cosine_sim_matrix = cosine_similarity(count_vec_matrix, count_vec_matrix) # matriz de similitud entre juegos"
   ]
  },
  {
   "cell_type": "code",
   "execution_count": 335,
   "id": "precious-attachment",
   "metadata": {},
   "outputs": [],
   "source": [
    "mapping = pd.Series(games.index,index = games['app_name']) #Se debe setear como índice a los títulos de los juegos para observar los resultados entre las similitudes"
   ]
  },
  {
   "cell_type": "markdown",
   "id": "clinical-audience",
   "metadata": {},
   "source": [
    "Creo una función para comparar un juego determinado utilizando la matriz de similitud creada anteriormente y obtener los 15 juegos más similares:"
   ]
  },
  {
   "cell_type": "code",
   "execution_count": 336,
   "id": "antique-domain",
   "metadata": {},
   "outputs": [],
   "source": [
    "def recommend_games(game):\n",
    "    game_index = mapping[game]\n",
    "    #Busca en la matriz de similitud, cuan parecido es ese juego con otros (usando distancia vectorial)\n",
    "    similarity_score = list(enumerate(cosine_sim_matrix[game_index]))\n",
    "    similarity_score = sorted(similarity_score, key=lambda x: x[1], reverse=True)\n",
    "    #En la lista me quedo con los 15 juegos más similares\n",
    "    similarity_score = similarity_score[1:16] #El valor 16 corresponde a que el primer valor de la lista es el mismo juego (distancia 0) por tanto me quedo con los 15 juegos siguientes\n",
    "    game_indices = [i[0] for i in similarity_score]\n",
    "    return (games['app_name'].iloc[game_indices])"
   ]
  },
  {
   "cell_type": "markdown",
   "id": "aware-gothic",
   "metadata": {},
   "source": [
    "Elijo un juego para probar el sistema de recomendación:"
   ]
  },
  {
   "cell_type": "code",
   "execution_count": 361,
   "id": "rotary-aruba",
   "metadata": {
    "scrolled": true
   },
   "outputs": [
    {
     "data": {
      "text/html": [
       "<div>\n",
       "<style scoped>\n",
       "    .dataframe tbody tr th:only-of-type {\n",
       "        vertical-align: middle;\n",
       "    }\n",
       "\n",
       "    .dataframe tbody tr th {\n",
       "        vertical-align: top;\n",
       "    }\n",
       "\n",
       "    .dataframe thead th {\n",
       "        text-align: right;\n",
       "    }\n",
       "</style>\n",
       "<table border=\"1\" class=\"dataframe\">\n",
       "  <thead>\n",
       "    <tr style=\"text-align: right;\">\n",
       "      <th></th>\n",
       "      <th>genres</th>\n",
       "      <th>app_name</th>\n",
       "      <th>tags</th>\n",
       "      <th>specs</th>\n",
       "      <th>price</th>\n",
       "      <th>early_access</th>\n",
       "      <th>id</th>\n",
       "      <th>sentiment</th>\n",
       "      <th>metadata</th>\n",
       "    </tr>\n",
       "  </thead>\n",
       "  <tbody>\n",
       "    <tr>\n",
       "      <th>26441</th>\n",
       "      <td>[Action, Adventure]</td>\n",
       "      <td>Disney Universe</td>\n",
       "      <td>[FamilyFriendly, Adventure, Action]</td>\n",
       "      <td>[Single-player, Shared/SplitScreen, Fullcontro...</td>\n",
       "      <td>19.99</td>\n",
       "      <td>0</td>\n",
       "      <td>316260.0</td>\n",
       "      <td>[VeryPositive]</td>\n",
       "      <td>ActionAdventureFamilyFriendlyAdventureActionSi...</td>\n",
       "    </tr>\n",
       "  </tbody>\n",
       "</table>\n",
       "</div>"
      ],
      "text/plain": [
       "                    genres         app_name  \\\n",
       "26441  [Action, Adventure]  Disney Universe   \n",
       "\n",
       "                                      tags  \\\n",
       "26441  [FamilyFriendly, Adventure, Action]   \n",
       "\n",
       "                                                   specs  price  early_access  \\\n",
       "26441  [Single-player, Shared/SplitScreen, Fullcontro...  19.99             0   \n",
       "\n",
       "             id       sentiment  \\\n",
       "26441  316260.0  [VeryPositive]   \n",
       "\n",
       "                                                metadata  \n",
       "26441  ActionAdventureFamilyFriendlyAdventureActionSi...  "
      ]
     },
     "execution_count": 361,
     "metadata": {},
     "output_type": "execute_result"
    }
   ],
   "source": [
    "games[games['app_name']=='Disney Universe']"
   ]
  },
  {
   "cell_type": "markdown",
   "id": "accepted-quebec",
   "metadata": {},
   "source": [
    "Ejecuto el sistema para que me recomiende juegos similares:"
   ]
  },
  {
   "cell_type": "code",
   "execution_count": 360,
   "id": "further-chosen",
   "metadata": {
    "scrolled": true
   },
   "outputs": [
    {
     "data": {
      "text/html": [
       "<div>\n",
       "<style scoped>\n",
       "    .dataframe tbody tr th:only-of-type {\n",
       "        vertical-align: middle;\n",
       "    }\n",
       "\n",
       "    .dataframe tbody tr th {\n",
       "        vertical-align: top;\n",
       "    }\n",
       "\n",
       "    .dataframe thead th {\n",
       "        text-align: right;\n",
       "    }\n",
       "</style>\n",
       "<table border=\"1\" class=\"dataframe\">\n",
       "  <thead>\n",
       "    <tr style=\"text-align: right;\">\n",
       "      <th></th>\n",
       "      <th>genres</th>\n",
       "      <th>app_name</th>\n",
       "      <th>tags</th>\n",
       "      <th>specs</th>\n",
       "      <th>price</th>\n",
       "      <th>early_access</th>\n",
       "      <th>id</th>\n",
       "      <th>sentiment</th>\n",
       "      <th>metadata</th>\n",
       "    </tr>\n",
       "  </thead>\n",
       "  <tbody>\n",
       "    <tr>\n",
       "      <th>172</th>\n",
       "      <td>[Action, Adventure]</td>\n",
       "      <td>LEGO Batman</td>\n",
       "      <td>[LEGO, Action, Adventure]</td>\n",
       "      <td>[Single-player, Shared/SplitScreen, Fullcontro...</td>\n",
       "      <td>19.99</td>\n",
       "      <td>0</td>\n",
       "      <td>21000.0</td>\n",
       "      <td>[VeryPositive]</td>\n",
       "      <td>ActionAdventureLEGOActionAdventureSingle-playe...</td>\n",
       "    </tr>\n",
       "    <tr>\n",
       "      <th>338</th>\n",
       "      <td>[Adventure]</td>\n",
       "      <td>LEGO® Star Wars™ - The Complete Saga</td>\n",
       "      <td>[LEGO, StarWars, Adventure]</td>\n",
       "      <td>[Single-player, Shared/SplitScreen, Fullcontro...</td>\n",
       "      <td>19.99</td>\n",
       "      <td>0</td>\n",
       "      <td>32440.0</td>\n",
       "      <td>[VeryPositive]</td>\n",
       "      <td>AdventureLEGOStarWarsAdventureSingle-playerSha...</td>\n",
       "    </tr>\n",
       "    <tr>\n",
       "      <th>848</th>\n",
       "      <td>[Action, Adventure]</td>\n",
       "      <td>Rayman® Origins</td>\n",
       "      <td>[Platformer, LocalCo-Op, 2D]</td>\n",
       "      <td>[Single-player, Shared/SplitScreen, Fullcontro...</td>\n",
       "      <td>19.99</td>\n",
       "      <td>0</td>\n",
       "      <td>207490.0</td>\n",
       "      <td>[VeryPositive]</td>\n",
       "      <td>ActionAdventurePlatformerLocalCo-Op2DSingle-pl...</td>\n",
       "    </tr>\n",
       "    <tr>\n",
       "      <th>944</th>\n",
       "      <td>[Action, Adventure]</td>\n",
       "      <td>LEGO® Batman 2 DC Super Heroes™</td>\n",
       "      <td>[LEGO, Action, Batman]</td>\n",
       "      <td>[Single-player, Shared/SplitScreen, Fullcontro...</td>\n",
       "      <td>19.99</td>\n",
       "      <td>0</td>\n",
       "      <td>213330.0</td>\n",
       "      <td>[VeryPositive]</td>\n",
       "      <td>ActionAdventureLEGOActionBatmanSingle-playerSh...</td>\n",
       "    </tr>\n",
       "    <tr>\n",
       "      <th>1808</th>\n",
       "      <td>[Action, Casual, Indie]</td>\n",
       "      <td>Luxuria Superbia</td>\n",
       "      <td>[Indie, Casual, Simulation]</td>\n",
       "      <td>[Single-player, Shared/SplitScreen, Fullcontro...</td>\n",
       "      <td>6.99</td>\n",
       "      <td>0</td>\n",
       "      <td>269150.0</td>\n",
       "      <td>[VeryPositive]</td>\n",
       "      <td>ActionCasualIndieIndieCasualSimulationSingle-p...</td>\n",
       "    </tr>\n",
       "    <tr>\n",
       "      <th>1843</th>\n",
       "      <td>[Action]</td>\n",
       "      <td>BlazBlue: Calamity Trigger</td>\n",
       "      <td>[Fighting, Anime, 2DFighter]</td>\n",
       "      <td>[Single-player, Shared/SplitScreen, Fullcontro...</td>\n",
       "      <td>9.99</td>\n",
       "      <td>0</td>\n",
       "      <td>263300.0</td>\n",
       "      <td>[VeryPositive]</td>\n",
       "      <td>ActionFightingAnime2DFighterSingle-playerShare...</td>\n",
       "    </tr>\n",
       "    <tr>\n",
       "      <th>1875</th>\n",
       "      <td>[Indie, RPG]</td>\n",
       "      <td>The Yawhg</td>\n",
       "      <td>[ChooseYourOwnAdventure, Indie, LocalCo-Op]</td>\n",
       "      <td>[Single-player, Shared/SplitScreen, Fullcontro...</td>\n",
       "      <td>9.99</td>\n",
       "      <td>0</td>\n",
       "      <td>269030.0</td>\n",
       "      <td>[VeryPositive]</td>\n",
       "      <td>IndieRPGChooseYourOwnAdventureIndieLocalCo-OpS...</td>\n",
       "    </tr>\n",
       "    <tr>\n",
       "      <th>2324</th>\n",
       "      <td>[Action, Casual]</td>\n",
       "      <td>Hidden in Plain Sight</td>\n",
       "      <td>[Casual, LocalMultiplayer, Action]</td>\n",
       "      <td>[LocalMulti-Player, Shared/SplitScreen, Fullco...</td>\n",
       "      <td>5.99</td>\n",
       "      <td>0</td>\n",
       "      <td>303590.0</td>\n",
       "      <td>[VeryPositive]</td>\n",
       "      <td>ActionCasualCasualLocalMultiplayerActionLocalM...</td>\n",
       "    </tr>\n",
       "    <tr>\n",
       "      <th>3695</th>\n",
       "      <td>[Action, Casual, Indie]</td>\n",
       "      <td>Miner Warfare</td>\n",
       "      <td>[Indie, 4PlayerLocal, LocalMultiplayer]</td>\n",
       "      <td>[Multi-player, Shared/SplitScreen, Fullcontrol...</td>\n",
       "      <td>2.99</td>\n",
       "      <td>0</td>\n",
       "      <td>354620.0</td>\n",
       "      <td>[VeryPositive]</td>\n",
       "      <td>ActionCasualIndieIndie4PlayerLocalLocalMultipl...</td>\n",
       "    </tr>\n",
       "    <tr>\n",
       "      <th>10564</th>\n",
       "      <td>[Action, Indie]</td>\n",
       "      <td>SuperLuminauts</td>\n",
       "      <td>[Action, Indie]</td>\n",
       "      <td>[LocalMulti-Player, Shared/SplitScreen, Fullco...</td>\n",
       "      <td>9.99</td>\n",
       "      <td>0</td>\n",
       "      <td>670080.0</td>\n",
       "      <td>[VeryPositive]</td>\n",
       "      <td>ActionIndieActionIndieLocalMulti-PlayerShared/...</td>\n",
       "    </tr>\n",
       "    <tr>\n",
       "      <th>24809</th>\n",
       "      <td>[Indie]</td>\n",
       "      <td>Audiosurf 2</td>\n",
       "      <td>[Music, Indie, Rhythm]</td>\n",
       "      <td>[Single-player, Shared/SplitScreen, Fullcontro...</td>\n",
       "      <td>14.99</td>\n",
       "      <td>0</td>\n",
       "      <td>235800.0</td>\n",
       "      <td>[VeryPositive]</td>\n",
       "      <td>IndieMusicIndieRhythmSingle-playerShared/Split...</td>\n",
       "    </tr>\n",
       "    <tr>\n",
       "      <th>25504</th>\n",
       "      <td>[Adventure]</td>\n",
       "      <td>Disney•Pixar WALL-E</td>\n",
       "      <td>[Adventure, Robots, Space]</td>\n",
       "      <td>[Single-player, Shared/SplitScreen, Fullcontro...</td>\n",
       "      <td>19.99</td>\n",
       "      <td>0</td>\n",
       "      <td>331750.0</td>\n",
       "      <td>[VeryPositive]</td>\n",
       "      <td>AdventureAdventureRobotsSpaceSingle-playerShar...</td>\n",
       "    </tr>\n",
       "    <tr>\n",
       "      <th>26411</th>\n",
       "      <td>[Action, Adventure]</td>\n",
       "      <td>Disney•Pixar Brave: The Video Game</td>\n",
       "      <td>[FamilyFriendly, Adventure, Action]</td>\n",
       "      <td>[Single-player, Shared/SplitScreen, PartialCon...</td>\n",
       "      <td>19.99</td>\n",
       "      <td>0</td>\n",
       "      <td>301830.0</td>\n",
       "      <td>[Positive]</td>\n",
       "      <td>ActionAdventureFamilyFriendlyAdventureActionSi...</td>\n",
       "    </tr>\n",
       "    <tr>\n",
       "      <th>27007</th>\n",
       "      <td>[Action, Indie]</td>\n",
       "      <td>Enemy Mind</td>\n",
       "      <td>[Action, Indie, Shoot'EmUp]</td>\n",
       "      <td>[Single-player, Shared/SplitScreen, Fullcontro...</td>\n",
       "      <td>9.99</td>\n",
       "      <td>0</td>\n",
       "      <td>285840.0</td>\n",
       "      <td>[VeryPositive]</td>\n",
       "      <td>ActionIndieActionIndieShoot'EmUpSingle-playerS...</td>\n",
       "    </tr>\n",
       "    <tr>\n",
       "      <th>29146</th>\n",
       "      <td>[Adventure]</td>\n",
       "      <td>LEGO Harry Potter: Years 5-7</td>\n",
       "      <td>[LEGO, Adventure, LocalCo-Op]</td>\n",
       "      <td>[Single-player, Shared/SplitScreen, Fullcontro...</td>\n",
       "      <td>19.99</td>\n",
       "      <td>0</td>\n",
       "      <td>204120.0</td>\n",
       "      <td>[VeryPositive]</td>\n",
       "      <td>AdventureLEGOAdventureLocalCo-OpSingle-playerS...</td>\n",
       "    </tr>\n",
       "  </tbody>\n",
       "</table>\n",
       "</div>"
      ],
      "text/plain": [
       "                        genres                              app_name  \\\n",
       "172        [Action, Adventure]                           LEGO Batman   \n",
       "338                [Adventure]  LEGO® Star Wars™ - The Complete Saga   \n",
       "848        [Action, Adventure]                       Rayman® Origins   \n",
       "944        [Action, Adventure]       LEGO® Batman 2 DC Super Heroes™   \n",
       "1808   [Action, Casual, Indie]                      Luxuria Superbia   \n",
       "1843                  [Action]            BlazBlue: Calamity Trigger   \n",
       "1875              [Indie, RPG]                             The Yawhg   \n",
       "2324          [Action, Casual]                 Hidden in Plain Sight   \n",
       "3695   [Action, Casual, Indie]                         Miner Warfare   \n",
       "10564          [Action, Indie]                        SuperLuminauts   \n",
       "24809                  [Indie]                           Audiosurf 2   \n",
       "25504              [Adventure]                   Disney•Pixar WALL-E   \n",
       "26411      [Action, Adventure]    Disney•Pixar Brave: The Video Game   \n",
       "27007          [Action, Indie]                            Enemy Mind   \n",
       "29146              [Adventure]          LEGO Harry Potter: Years 5-7   \n",
       "\n",
       "                                              tags  \\\n",
       "172                      [LEGO, Action, Adventure]   \n",
       "338                    [LEGO, StarWars, Adventure]   \n",
       "848                   [Platformer, LocalCo-Op, 2D]   \n",
       "944                         [LEGO, Action, Batman]   \n",
       "1808                   [Indie, Casual, Simulation]   \n",
       "1843                  [Fighting, Anime, 2DFighter]   \n",
       "1875   [ChooseYourOwnAdventure, Indie, LocalCo-Op]   \n",
       "2324            [Casual, LocalMultiplayer, Action]   \n",
       "3695       [Indie, 4PlayerLocal, LocalMultiplayer]   \n",
       "10564                              [Action, Indie]   \n",
       "24809                       [Music, Indie, Rhythm]   \n",
       "25504                   [Adventure, Robots, Space]   \n",
       "26411          [FamilyFriendly, Adventure, Action]   \n",
       "27007                  [Action, Indie, Shoot'EmUp]   \n",
       "29146                [LEGO, Adventure, LocalCo-Op]   \n",
       "\n",
       "                                                   specs  price  early_access  \\\n",
       "172    [Single-player, Shared/SplitScreen, Fullcontro...  19.99             0   \n",
       "338    [Single-player, Shared/SplitScreen, Fullcontro...  19.99             0   \n",
       "848    [Single-player, Shared/SplitScreen, Fullcontro...  19.99             0   \n",
       "944    [Single-player, Shared/SplitScreen, Fullcontro...  19.99             0   \n",
       "1808   [Single-player, Shared/SplitScreen, Fullcontro...   6.99             0   \n",
       "1843   [Single-player, Shared/SplitScreen, Fullcontro...   9.99             0   \n",
       "1875   [Single-player, Shared/SplitScreen, Fullcontro...   9.99             0   \n",
       "2324   [LocalMulti-Player, Shared/SplitScreen, Fullco...   5.99             0   \n",
       "3695   [Multi-player, Shared/SplitScreen, Fullcontrol...   2.99             0   \n",
       "10564  [LocalMulti-Player, Shared/SplitScreen, Fullco...   9.99             0   \n",
       "24809  [Single-player, Shared/SplitScreen, Fullcontro...  14.99             0   \n",
       "25504  [Single-player, Shared/SplitScreen, Fullcontro...  19.99             0   \n",
       "26411  [Single-player, Shared/SplitScreen, PartialCon...  19.99             0   \n",
       "27007  [Single-player, Shared/SplitScreen, Fullcontro...   9.99             0   \n",
       "29146  [Single-player, Shared/SplitScreen, Fullcontro...  19.99             0   \n",
       "\n",
       "             id       sentiment  \\\n",
       "172     21000.0  [VeryPositive]   \n",
       "338     32440.0  [VeryPositive]   \n",
       "848    207490.0  [VeryPositive]   \n",
       "944    213330.0  [VeryPositive]   \n",
       "1808   269150.0  [VeryPositive]   \n",
       "1843   263300.0  [VeryPositive]   \n",
       "1875   269030.0  [VeryPositive]   \n",
       "2324   303590.0  [VeryPositive]   \n",
       "3695   354620.0  [VeryPositive]   \n",
       "10564  670080.0  [VeryPositive]   \n",
       "24809  235800.0  [VeryPositive]   \n",
       "25504  331750.0  [VeryPositive]   \n",
       "26411  301830.0      [Positive]   \n",
       "27007  285840.0  [VeryPositive]   \n",
       "29146  204120.0  [VeryPositive]   \n",
       "\n",
       "                                                metadata  \n",
       "172    ActionAdventureLEGOActionAdventureSingle-playe...  \n",
       "338    AdventureLEGOStarWarsAdventureSingle-playerSha...  \n",
       "848    ActionAdventurePlatformerLocalCo-Op2DSingle-pl...  \n",
       "944    ActionAdventureLEGOActionBatmanSingle-playerSh...  \n",
       "1808   ActionCasualIndieIndieCasualSimulationSingle-p...  \n",
       "1843   ActionFightingAnime2DFighterSingle-playerShare...  \n",
       "1875   IndieRPGChooseYourOwnAdventureIndieLocalCo-OpS...  \n",
       "2324   ActionCasualCasualLocalMultiplayerActionLocalM...  \n",
       "3695   ActionCasualIndieIndie4PlayerLocalLocalMultipl...  \n",
       "10564  ActionIndieActionIndieLocalMulti-PlayerShared/...  \n",
       "24809  IndieMusicIndieRhythmSingle-playerShared/Split...  \n",
       "25504  AdventureAdventureRobotsSpaceSingle-playerShar...  \n",
       "26411  ActionAdventureFamilyFriendlyAdventureActionSi...  \n",
       "27007  ActionIndieActionIndieShoot'EmUpSingle-playerS...  \n",
       "29146  AdventureLEGOAdventureLocalCo-OpSingle-playerS...  "
      ]
     },
     "execution_count": 360,
     "metadata": {},
     "output_type": "execute_result"
    }
   ],
   "source": [
    "recomendados = recommend_games(\"Disney Universe\")\n",
    "games[games.app_name.isin(recomendados)]"
   ]
  },
  {
   "cell_type": "markdown",
   "id": "underlying-registration",
   "metadata": {},
   "source": [
    "En líneas generales el filtro recomienda correctamente ya que sus recomendaciones se basan en juegos de LEGO o de Disney que son de una temática similar al juego elegido. Podemos observar que las features genres, tags, specs y sentiment son similares a las del juegos definido."
   ]
  },
  {
   "cell_type": "markdown",
   "id": "inclusive-raising",
   "metadata": {},
   "source": [
    "### Conclusiones"
   ]
  },
  {
   "cell_type": "markdown",
   "id": "sustained-console",
   "metadata": {},
   "source": [
    "Me encuentro satisfecho con el modelo obtenido, no sólo por la performance de éste sino por haber realizado la implementación de 0 y sin la asistencia de mis mentores. La temática de los sistemas de recomendación despertó mi interés, no sólo por la entrega del proyecto, sino por haber logrado entender como funciona su lógica y la aplicación constante que observamos en nuestra vida cotidiana (Spotify, Youtube, Netflix, etc). De la misma forma me pareció interesante abordar la misma consigna del proyecto 03 pero con un enfoque distinto, pudiendo resolver la misma interrogante de dos formas totalmente distintas. Considero que no se puede concluir si un filtro colaborativo es mejor que uno basado en contenido (o viceversa) ya que el enfoque a implementar depende de la cantidad de datos y la arquitectura definida que tengamos para poder almacenar los mismos. A su vez también considero que es importante entender el contexto de los datos (incluyendo los usuarios que populan estos dataset), ya que es un aspecto clave en el entendimiento del dominio de la consigna que buscamos abordar."
   ]
  }
 ],
 "metadata": {
  "kernelspec": {
   "display_name": "Python 3",
   "language": "python",
   "name": "python3"
  },
  "language_info": {
   "codemirror_mode": {
    "name": "ipython",
    "version": 3
   },
   "file_extension": ".py",
   "mimetype": "text/x-python",
   "name": "python",
   "nbconvert_exporter": "python",
   "pygments_lexer": "ipython3",
   "version": "3.9.1"
  },
  "varInspector": {
   "cols": {
    "lenName": 16,
    "lenType": 16,
    "lenVar": 40
   },
   "kernels_config": {
    "python": {
     "delete_cmd_postfix": "",
     "delete_cmd_prefix": "del ",
     "library": "var_list.py",
     "varRefreshCmd": "print(var_dic_list())"
    },
    "r": {
     "delete_cmd_postfix": ") ",
     "delete_cmd_prefix": "rm(",
     "library": "var_list.r",
     "varRefreshCmd": "cat(var_dic_list()) "
    }
   },
   "types_to_exclude": [
    "module",
    "function",
    "builtin_function_or_method",
    "instance",
    "_Feature"
   ],
   "window_display": false
  }
 },
 "nbformat": 4,
 "nbformat_minor": 5
}
